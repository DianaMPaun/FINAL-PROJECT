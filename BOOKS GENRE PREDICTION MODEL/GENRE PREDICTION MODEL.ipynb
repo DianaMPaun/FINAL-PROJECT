{
 "cells": [
  {
   "cell_type": "markdown",
   "id": "e318748f",
   "metadata": {},
   "source": [
    "# Exploring Genre Classification in Literature: A Comparative Analysis of Prediction Models"
   ]
  },
  {
   "cell_type": "markdown",
   "id": "87094a2b",
   "metadata": {},
   "source": [
    "### In this study, we delve into the realm of genre classification in literature using various predictive models. Our research explores the effectiveness of different machine learning algorithms in classifying literary works into distinct genres such as fantasy, fiction, nonfiction, romance, and more. By employing techniques like TF-IDF vectorization and model evaluation metrics, we compare the performance of models including Support Vector Machines, Naive Bayes, Random Forest, and Logistic Regression. Through this comparative analysis, we aim to unravel insights into the most effective methodologies for genre classification in literature, shedding light on the nuances and challenges inherent in predicting literary genres using computational techniques."
   ]
  },
  {
   "cell_type": "code",
   "execution_count": 89,
   "id": "a75dcf30",
   "metadata": {},
   "outputs": [],
   "source": [
    "# Import libraries\n",
    "\n",
    "import pandas as pd\n",
    "import numpy as np\n",
    "import matplotlib.pyplot as plt\n",
    "import seaborn as sns\n",
    "\n",
    "import re\n",
    "import string\n",
    "from wordcloud import WordCloud\n",
    "from collections import Counter\n",
    "\n",
    "from nltk import word_tokenize\n",
    "from nltk.corpus import stopwords\n",
    "from nltk.stem import PorterStemmer\n",
    "\n",
    "from sklearn.model_selection import train_test_split\n",
    "from sklearn.feature_extraction.text import TfidfVectorizer\n",
    "from sklearn.svm import SVC\n",
    "from sklearn.metrics import classification_report"
   ]
  },
  {
   "cell_type": "code",
   "execution_count": 80,
   "id": "f92a0035",
   "metadata": {},
   "outputs": [
    {
     "data": {
      "text/html": [
       "<div>\n",
       "<style scoped>\n",
       "    .dataframe tbody tr th:only-of-type {\n",
       "        vertical-align: middle;\n",
       "    }\n",
       "\n",
       "    .dataframe tbody tr th {\n",
       "        vertical-align: top;\n",
       "    }\n",
       "\n",
       "    .dataframe thead th {\n",
       "        text-align: right;\n",
       "    }\n",
       "</style>\n",
       "<table border=\"1\" class=\"dataframe\">\n",
       "  <thead>\n",
       "    <tr style=\"text-align: right;\">\n",
       "      <th></th>\n",
       "      <th>title</th>\n",
       "      <th>author</th>\n",
       "      <th>stars</th>\n",
       "      <th>ratings</th>\n",
       "      <th>reviews</th>\n",
       "      <th>synopsis</th>\n",
       "      <th>genre</th>\n",
       "      <th>version</th>\n",
       "      <th>price</th>\n",
       "      <th>number_of_pages</th>\n",
       "      <th>book_format</th>\n",
       "      <th>published_date</th>\n",
       "      <th>published_year</th>\n",
       "      <th>num_books_author</th>\n",
       "      <th>followers_author</th>\n",
       "    </tr>\n",
       "  </thead>\n",
       "  <tbody>\n",
       "    <tr>\n",
       "      <th>0</th>\n",
       "      <td>The Hunger Games</td>\n",
       "      <td>SUZANNE COLLINS</td>\n",
       "      <td>4.34</td>\n",
       "      <td>8601389</td>\n",
       "      <td>216773</td>\n",
       "      <td>Could you survive on your own in the wild, wit...</td>\n",
       "      <td>Young Adult</td>\n",
       "      <td>Kindle Unlimited</td>\n",
       "      <td>0.00</td>\n",
       "      <td>374</td>\n",
       "      <td>Hardcover</td>\n",
       "      <td>September 14, 2008</td>\n",
       "      <td>2008</td>\n",
       "      <td>72</td>\n",
       "      <td>997000</td>\n",
       "    </tr>\n",
       "    <tr>\n",
       "      <th>1</th>\n",
       "      <td>Harry Potter and the Order of the Phoenix</td>\n",
       "      <td>J.K. ROWLING</td>\n",
       "      <td>4.50</td>\n",
       "      <td>3359608</td>\n",
       "      <td>62879</td>\n",
       "      <td>Harry Potter is about to start his fifth year ...</td>\n",
       "      <td>Young Adult</td>\n",
       "      <td>Kindle Unlimited</td>\n",
       "      <td>0.00</td>\n",
       "      <td>912</td>\n",
       "      <td>Paperback</td>\n",
       "      <td>June 21, 2003</td>\n",
       "      <td>2003</td>\n",
       "      <td>535</td>\n",
       "      <td>225000</td>\n",
       "    </tr>\n",
       "    <tr>\n",
       "      <th>2</th>\n",
       "      <td>Pride and Prejudice</td>\n",
       "      <td>JANE AUSTEN</td>\n",
       "      <td>4.29</td>\n",
       "      <td>4238613</td>\n",
       "      <td>113179</td>\n",
       "      <td>Since its immediate success in 1813, Pride and...</td>\n",
       "      <td>Classics</td>\n",
       "      <td>Kindle</td>\n",
       "      <td>2.99</td>\n",
       "      <td>279</td>\n",
       "      <td>Paperback</td>\n",
       "      <td>January 28, 1813</td>\n",
       "      <td>1813</td>\n",
       "      <td>4124</td>\n",
       "      <td>663000</td>\n",
       "    </tr>\n",
       "    <tr>\n",
       "      <th>3</th>\n",
       "      <td>To Kill a Mockingbird</td>\n",
       "      <td>HARPER LEE</td>\n",
       "      <td>4.26</td>\n",
       "      <td>6079471</td>\n",
       "      <td>116454</td>\n",
       "      <td>The unforgettable novel of a childhood in a sl...</td>\n",
       "      <td>Classics</td>\n",
       "      <td>Kindle</td>\n",
       "      <td>13.99</td>\n",
       "      <td>323</td>\n",
       "      <td>Paperback</td>\n",
       "      <td>July 11, 1960</td>\n",
       "      <td>1960</td>\n",
       "      <td>70</td>\n",
       "      <td>135000</td>\n",
       "    </tr>\n",
       "    <tr>\n",
       "      <th>4</th>\n",
       "      <td>The Book Thief</td>\n",
       "      <td>MARKUS ZUSAK</td>\n",
       "      <td>4.39</td>\n",
       "      <td>2538383</td>\n",
       "      <td>143787</td>\n",
       "      <td>Librarian's note: An alternate cover edition c...</td>\n",
       "      <td>Historical</td>\n",
       "      <td>Kindle</td>\n",
       "      <td>10.99</td>\n",
       "      <td>592</td>\n",
       "      <td>Hardcover</td>\n",
       "      <td>September 1, 2005</td>\n",
       "      <td>2005</td>\n",
       "      <td>23</td>\n",
       "      <td>392000</td>\n",
       "    </tr>\n",
       "  </tbody>\n",
       "</table>\n",
       "</div>"
      ],
      "text/plain": [
       "                                       title           author  stars  ratings  \\\n",
       "0                           The Hunger Games  SUZANNE COLLINS   4.34  8601389   \n",
       "1  Harry Potter and the Order of the Phoenix     J.K. ROWLING   4.50  3359608   \n",
       "2                        Pride and Prejudice      JANE AUSTEN   4.29  4238613   \n",
       "3                      To Kill a Mockingbird       HARPER LEE   4.26  6079471   \n",
       "4                             The Book Thief     MARKUS ZUSAK   4.39  2538383   \n",
       "\n",
       "   reviews                                           synopsis        genre  \\\n",
       "0   216773  Could you survive on your own in the wild, wit...  Young Adult   \n",
       "1    62879  Harry Potter is about to start his fifth year ...  Young Adult   \n",
       "2   113179  Since its immediate success in 1813, Pride and...     Classics   \n",
       "3   116454  The unforgettable novel of a childhood in a sl...     Classics   \n",
       "4   143787  Librarian's note: An alternate cover edition c...   Historical   \n",
       "\n",
       "            version  price  number_of_pages book_format      published_date  \\\n",
       "0  Kindle Unlimited   0.00              374   Hardcover  September 14, 2008   \n",
       "1  Kindle Unlimited   0.00              912   Paperback       June 21, 2003   \n",
       "2            Kindle   2.99              279   Paperback    January 28, 1813   \n",
       "3            Kindle  13.99              323   Paperback       July 11, 1960   \n",
       "4            Kindle  10.99              592   Hardcover   September 1, 2005   \n",
       "\n",
       "   published_year  num_books_author  followers_author  \n",
       "0            2008                72            997000  \n",
       "1            2003               535            225000  \n",
       "2            1813              4124            663000  \n",
       "3            1960                70            135000  \n",
       "4            2005                23            392000  "
      ]
     },
     "execution_count": 80,
     "metadata": {},
     "output_type": "execute_result"
    }
   ],
   "source": [
    "# Load the data\n",
    "\n",
    "books_g = pd.read_csv('books_final.csv')\n",
    "books_g.head()"
   ]
  },
  {
   "cell_type": "code",
   "execution_count": 81,
   "id": "16b092e1",
   "metadata": {},
   "outputs": [
    {
     "data": {
      "text/html": [
       "<div>\n",
       "<style scoped>\n",
       "    .dataframe tbody tr th:only-of-type {\n",
       "        vertical-align: middle;\n",
       "    }\n",
       "\n",
       "    .dataframe tbody tr th {\n",
       "        vertical-align: top;\n",
       "    }\n",
       "\n",
       "    .dataframe thead th {\n",
       "        text-align: right;\n",
       "    }\n",
       "</style>\n",
       "<table border=\"1\" class=\"dataframe\">\n",
       "  <thead>\n",
       "    <tr style=\"text-align: right;\">\n",
       "      <th></th>\n",
       "      <th>title</th>\n",
       "      <th>genre</th>\n",
       "      <th>synopsis</th>\n",
       "    </tr>\n",
       "  </thead>\n",
       "  <tbody>\n",
       "    <tr>\n",
       "      <th>0</th>\n",
       "      <td>The Hunger Games</td>\n",
       "      <td>Young Adult</td>\n",
       "      <td>Could you survive on your own in the wild, wit...</td>\n",
       "    </tr>\n",
       "    <tr>\n",
       "      <th>1</th>\n",
       "      <td>Harry Potter and the Order of the Phoenix</td>\n",
       "      <td>Young Adult</td>\n",
       "      <td>Harry Potter is about to start his fifth year ...</td>\n",
       "    </tr>\n",
       "    <tr>\n",
       "      <th>2</th>\n",
       "      <td>Pride and Prejudice</td>\n",
       "      <td>Classics</td>\n",
       "      <td>Since its immediate success in 1813, Pride and...</td>\n",
       "    </tr>\n",
       "    <tr>\n",
       "      <th>3</th>\n",
       "      <td>To Kill a Mockingbird</td>\n",
       "      <td>Classics</td>\n",
       "      <td>The unforgettable novel of a childhood in a sl...</td>\n",
       "    </tr>\n",
       "    <tr>\n",
       "      <th>4</th>\n",
       "      <td>The Book Thief</td>\n",
       "      <td>Historical</td>\n",
       "      <td>Librarian's note: An alternate cover edition c...</td>\n",
       "    </tr>\n",
       "  </tbody>\n",
       "</table>\n",
       "</div>"
      ],
      "text/plain": [
       "                                       title        genre  \\\n",
       "0                           The Hunger Games  Young Adult   \n",
       "1  Harry Potter and the Order of the Phoenix  Young Adult   \n",
       "2                        Pride and Prejudice     Classics   \n",
       "3                      To Kill a Mockingbird     Classics   \n",
       "4                             The Book Thief   Historical   \n",
       "\n",
       "                                            synopsis  \n",
       "0  Could you survive on your own in the wild, wit...  \n",
       "1  Harry Potter is about to start his fifth year ...  \n",
       "2  Since its immediate success in 1813, Pride and...  \n",
       "3  The unforgettable novel of a childhood in a sl...  \n",
       "4  Librarian's note: An alternate cover edition c...  "
      ]
     },
     "execution_count": 81,
     "metadata": {},
     "output_type": "execute_result"
    }
   ],
   "source": [
    "books_pred_g = books_g[['title', 'genre', 'synopsis']].copy()\n",
    "books_pred_g.head()"
   ]
  },
  {
   "cell_type": "code",
   "execution_count": 82,
   "id": "069cbd4a",
   "metadata": {},
   "outputs": [
    {
     "data": {
      "text/plain": [
       "genre\n",
       "Fantasy                  1371\n",
       "Fiction                  1305\n",
       "Nonfiction                772\n",
       "Young Adult               517\n",
       "Romance                   433\n",
       "Mystery/Thriller          432\n",
       "Historical                380\n",
       "Classics                  360\n",
       "Horror                    321\n",
       "Science Fiction           255\n",
       "Literature                155\n",
       "Paranormal                153\n",
       "Children                   87\n",
       "Religion/Spirituality      72\n",
       "Poetry                     57\n",
       "Contemporary               43\n",
       "Personal Development       39\n",
       "Manga                      23\n",
       "Comics                     21\n",
       "Humor                      17\n",
       "Cultural                   14\n",
       "Erotica                     8\n",
       "New Adult                   7\n",
       "Gaming                      1\n",
       "Name: count, dtype: int64"
      ]
     },
     "execution_count": 82,
     "metadata": {},
     "output_type": "execute_result"
    }
   ],
   "source": [
    "books_pred_g.genre.value_counts()"
   ]
  },
  {
   "cell_type": "code",
   "execution_count": 83,
   "id": "7b7f2082",
   "metadata": {},
   "outputs": [
    {
     "data": {
      "text/html": [
       "<div>\n",
       "<style scoped>\n",
       "    .dataframe tbody tr th:only-of-type {\n",
       "        vertical-align: middle;\n",
       "    }\n",
       "\n",
       "    .dataframe tbody tr th {\n",
       "        vertical-align: top;\n",
       "    }\n",
       "\n",
       "    .dataframe thead th {\n",
       "        text-align: right;\n",
       "    }\n",
       "</style>\n",
       "<table border=\"1\" class=\"dataframe\">\n",
       "  <thead>\n",
       "    <tr style=\"text-align: right;\">\n",
       "      <th></th>\n",
       "      <th>title</th>\n",
       "      <th>genre</th>\n",
       "      <th>synopsis</th>\n",
       "    </tr>\n",
       "  </thead>\n",
       "  <tbody>\n",
       "    <tr>\n",
       "      <th>0</th>\n",
       "      <td>The Hunger Games</td>\n",
       "      <td>Young Adult</td>\n",
       "      <td>Could you survive on your own in the wild, wit...</td>\n",
       "    </tr>\n",
       "    <tr>\n",
       "      <th>1</th>\n",
       "      <td>Harry Potter and the Order of the Phoenix</td>\n",
       "      <td>Young Adult</td>\n",
       "      <td>Harry Potter is about to start his fifth year ...</td>\n",
       "    </tr>\n",
       "    <tr>\n",
       "      <th>2</th>\n",
       "      <td>Pride and Prejudice</td>\n",
       "      <td>Classics</td>\n",
       "      <td>Since its immediate success in 1813, Pride and...</td>\n",
       "    </tr>\n",
       "    <tr>\n",
       "      <th>3</th>\n",
       "      <td>To Kill a Mockingbird</td>\n",
       "      <td>Classics</td>\n",
       "      <td>The unforgettable novel of a childhood in a sl...</td>\n",
       "    </tr>\n",
       "    <tr>\n",
       "      <th>4</th>\n",
       "      <td>The Book Thief</td>\n",
       "      <td>Historical</td>\n",
       "      <td>Librarian's note: An alternate cover edition c...</td>\n",
       "    </tr>\n",
       "    <tr>\n",
       "      <th>...</th>\n",
       "      <td>...</td>\n",
       "      <td>...</td>\n",
       "      <td>...</td>\n",
       "    </tr>\n",
       "    <tr>\n",
       "      <th>6837</th>\n",
       "      <td>The Rice Mother</td>\n",
       "      <td>Historical</td>\n",
       "      <td>Nothing in Lakshmi's childhood, running carefr...</td>\n",
       "    </tr>\n",
       "    <tr>\n",
       "      <th>6838</th>\n",
       "      <td>Imperium</td>\n",
       "      <td>Historical</td>\n",
       "      <td>When Tiro, the confidential secretary (and sla...</td>\n",
       "    </tr>\n",
       "    <tr>\n",
       "      <th>6839</th>\n",
       "      <td>The Dangerous Days of Daniel X</td>\n",
       "      <td>Young Adult</td>\n",
       "      <td>He was born with great power\\nThe greatest sup...</td>\n",
       "    </tr>\n",
       "    <tr>\n",
       "      <th>6841</th>\n",
       "      <td>Family Matters</td>\n",
       "      <td>Fiction</td>\n",
       "      <td>Rohinton Mistry’s enthralling novel is at once...</td>\n",
       "    </tr>\n",
       "    <tr>\n",
       "      <th>6842</th>\n",
       "      <td>The Minds of Billy Milligan</td>\n",
       "      <td>Nonfiction</td>\n",
       "      <td>Billy Milligan can be anyone he wants to be . ...</td>\n",
       "    </tr>\n",
       "  </tbody>\n",
       "</table>\n",
       "<p>6454 rows × 3 columns</p>\n",
       "</div>"
      ],
      "text/plain": [
       "                                          title        genre  \\\n",
       "0                              The Hunger Games  Young Adult   \n",
       "1     Harry Potter and the Order of the Phoenix  Young Adult   \n",
       "2                           Pride and Prejudice     Classics   \n",
       "3                         To Kill a Mockingbird     Classics   \n",
       "4                                The Book Thief   Historical   \n",
       "...                                         ...          ...   \n",
       "6837                            The Rice Mother   Historical   \n",
       "6838                                   Imperium   Historical   \n",
       "6839             The Dangerous Days of Daniel X  Young Adult   \n",
       "6841                             Family Matters      Fiction   \n",
       "6842                The Minds of Billy Milligan   Nonfiction   \n",
       "\n",
       "                                               synopsis  \n",
       "0     Could you survive on your own in the wild, wit...  \n",
       "1     Harry Potter is about to start his fifth year ...  \n",
       "2     Since its immediate success in 1813, Pride and...  \n",
       "3     The unforgettable novel of a childhood in a sl...  \n",
       "4     Librarian's note: An alternate cover edition c...  \n",
       "...                                                 ...  \n",
       "6837  Nothing in Lakshmi's childhood, running carefr...  \n",
       "6838  When Tiro, the confidential secretary (and sla...  \n",
       "6839  He was born with great power\\nThe greatest sup...  \n",
       "6841  Rohinton Mistry’s enthralling novel is at once...  \n",
       "6842  Billy Milligan can be anyone he wants to be . ...  \n",
       "\n",
       "[6454 rows x 3 columns]"
      ]
     },
     "execution_count": 83,
     "metadata": {},
     "output_type": "execute_result"
    }
   ],
   "source": [
    "genre_counts = books_pred_g['genre'].value_counts()\n",
    "\n",
    "# Get genres with counts over 80\n",
    "selected_genres = genre_counts[genre_counts > 100].index.tolist()\n",
    "\n",
    "# Filter the original DataFrame based on selected genres\n",
    "new_pred = books_pred_g[books_pred_g['genre'].isin(selected_genres)]\n",
    "\n",
    "new_pred"
   ]
  },
  {
   "cell_type": "code",
   "execution_count": 84,
   "id": "51769503",
   "metadata": {},
   "outputs": [
    {
     "data": {
      "text/plain": [
       "genre\n",
       "Fantasy             1371\n",
       "Fiction             1305\n",
       "Nonfiction           772\n",
       "Young Adult          517\n",
       "Romance              433\n",
       "Mystery/Thriller     432\n",
       "Historical           380\n",
       "Classics             360\n",
       "Horror               321\n",
       "Science Fiction      255\n",
       "Literature           155\n",
       "Paranormal           153\n",
       "Name: count, dtype: int64"
      ]
     },
     "execution_count": 84,
     "metadata": {},
     "output_type": "execute_result"
    }
   ],
   "source": [
    "new_pred.genre.value_counts()"
   ]
  },
  {
   "cell_type": "code",
   "execution_count": 85,
   "id": "7a07053a",
   "metadata": {},
   "outputs": [
    {
     "name": "stdout",
     "output_type": "stream",
     "text": [
      "<class 'pandas.core.frame.DataFrame'>\n",
      "Index: 6454 entries, 0 to 6842\n",
      "Data columns (total 3 columns):\n",
      " #   Column    Non-Null Count  Dtype \n",
      "---  ------    --------------  ----- \n",
      " 0   title     6454 non-null   object\n",
      " 1   genre     6454 non-null   object\n",
      " 2   synopsis  6454 non-null   object\n",
      "dtypes: object(3)\n",
      "memory usage: 201.7+ KB\n"
     ]
    }
   ],
   "source": [
    "new_pred.info()"
   ]
  },
  {
   "cell_type": "code",
   "execution_count": 91,
   "id": "1b1da881",
   "metadata": {},
   "outputs": [
    {
     "data": {
      "image/png": "[encoded data removed]",
      "text/plain": [
       "<Figure size 1000x500 with 1 Axes>"
      ]
     },
     "metadata": {},
     "output_type": "display_data"
    }
   ],
   "source": [
    "#Generating a countplot for genre\n",
    "\n",
    "plt.figure(figsize=(10,5))\n",
    "sns.barplot(x=new_pred['genre'].value_counts().index,y=new_pred['genre'].value_counts())\n",
    "plt.title('Genre Count')\n",
    "plt.xlabel('Genres')\n",
    "plt.ylabel('Count')\n",
    "plt.xticks(rotation=90);"
   ]
  },
  {
   "cell_type": "markdown",
   "id": "39241b84",
   "metadata": {},
   "source": [
    "# Text Preprocessing\n",
    "\n",
    "- Convert to Lowercase\n",
    "- Remove punctuations\n",
    "- Remove stopwords\n",
    "- Stemming/Lemmatization"
   ]
  },
  {
   "cell_type": "code",
   "execution_count": 92,
   "id": "0d8041eb",
   "metadata": {},
   "outputs": [],
   "source": [
    "# Function to convert the combined text to lowercase.\n",
    "def lowercase(text):\n",
    "    text=text.lower()\n",
    "    return text"
   ]
  },
  {
   "cell_type": "code",
   "execution_count": 93,
   "id": "3dd6cfbb",
   "metadata": {},
   "outputs": [],
   "source": [
    "# Function to remove the punctuations from the combined text.\n",
    "punc=string.punctuation\n",
    "\n",
    "def removepunc(text):\n",
    "    return text.translate(str.maketrans('','',punc)) "
   ]
  },
  {
   "cell_type": "code",
   "execution_count": 94,
   "id": "6af3f360",
   "metadata": {},
   "outputs": [],
   "source": [
    "#Even after the previous operations on text,it still contains a lot of words that do not add any context to language processing in NLP which are known as stopwords. \n",
    "#Thus it is necessary to filter these stopwords out of the required text using the below function\n",
    "def remove_sw(text):\n",
    "    new_list=[]\n",
    "    # Tokenization is breaking complex data into smaller units called tokens. It can be done by splitting paragraphs into sentences and sentences into words.\n",
    "    words=word_tokenize(text)\n",
    "    sws=stopwords.words('english')\n",
    "    for word in words:\n",
    "        if word not in sws:\n",
    "            new_list.append(word)\n",
    "    \n",
    "    return ' '.join(new_list)"
   ]
  },
  {
   "cell_type": "code",
   "execution_count": 95,
   "id": "93c7764f",
   "metadata": {},
   "outputs": [],
   "source": [
    "# Function to perform stemming on the combined text\n",
    "def stem_text(text):\n",
    "    new_list=[]\n",
    "    stemmer=PorterStemmer()\n",
    "    words=word_tokenize(text)\n",
    "    for word in words:\n",
    "        new_list.append(stemmer.stem(word))\n",
    "    \n",
    "    return ' '.join(new_list)"
   ]
  },
  {
   "cell_type": "code",
   "execution_count": 96,
   "id": "dd64fd0e",
   "metadata": {},
   "outputs": [
    {
     "name": "stderr",
     "output_type": "stream",
     "text": [
      "C:\\Users\\diana\\AppData\\Local\\Temp\\ipykernel_34412\\1794693528.py:3: SettingWithCopyWarning: \n",
      "A value is trying to be set on a copy of a slice from a DataFrame.\n",
      "Try using .loc[row_indexer,col_indexer] = value instead\n",
      "\n",
      "See the caveats in the documentation: https://pandas.pydata.org/pandas-docs/stable/user_guide/indexing.html#returning-a-view-versus-a-copy\n",
      "  new_pred['title_synopsis']=new_pred['title'] + ' ' + new_pred['synopsis']\n"
     ]
    },
    {
     "data": {
      "text/html": [
       "<div>\n",
       "<style scoped>\n",
       "    .dataframe tbody tr th:only-of-type {\n",
       "        vertical-align: middle;\n",
       "    }\n",
       "\n",
       "    .dataframe tbody tr th {\n",
       "        vertical-align: top;\n",
       "    }\n",
       "\n",
       "    .dataframe thead th {\n",
       "        text-align: right;\n",
       "    }\n",
       "</style>\n",
       "<table border=\"1\" class=\"dataframe\">\n",
       "  <thead>\n",
       "    <tr style=\"text-align: right;\">\n",
       "      <th></th>\n",
       "      <th>title</th>\n",
       "      <th>genre</th>\n",
       "      <th>synopsis</th>\n",
       "      <th>title_synopsis</th>\n",
       "    </tr>\n",
       "  </thead>\n",
       "  <tbody>\n",
       "    <tr>\n",
       "      <th>0</th>\n",
       "      <td>The Hunger Games</td>\n",
       "      <td>Young Adult</td>\n",
       "      <td>Could you survive on your own in the wild, wit...</td>\n",
       "      <td>The Hunger Games Could you survive on your own...</td>\n",
       "    </tr>\n",
       "    <tr>\n",
       "      <th>1</th>\n",
       "      <td>Harry Potter and the Order of the Phoenix</td>\n",
       "      <td>Young Adult</td>\n",
       "      <td>Harry Potter is about to start his fifth year ...</td>\n",
       "      <td>Harry Potter and the Order of the Phoenix Harr...</td>\n",
       "    </tr>\n",
       "    <tr>\n",
       "      <th>2</th>\n",
       "      <td>Pride and Prejudice</td>\n",
       "      <td>Classics</td>\n",
       "      <td>Since its immediate success in 1813, Pride and...</td>\n",
       "      <td>Pride and Prejudice Since its immediate succes...</td>\n",
       "    </tr>\n",
       "    <tr>\n",
       "      <th>3</th>\n",
       "      <td>To Kill a Mockingbird</td>\n",
       "      <td>Classics</td>\n",
       "      <td>The unforgettable novel of a childhood in a sl...</td>\n",
       "      <td>To Kill a Mockingbird The unforgettable novel ...</td>\n",
       "    </tr>\n",
       "    <tr>\n",
       "      <th>4</th>\n",
       "      <td>The Book Thief</td>\n",
       "      <td>Historical</td>\n",
       "      <td>Librarian's note: An alternate cover edition c...</td>\n",
       "      <td>The Book Thief Librarian's note: An alternate ...</td>\n",
       "    </tr>\n",
       "  </tbody>\n",
       "</table>\n",
       "</div>"
      ],
      "text/plain": [
       "                                       title        genre  \\\n",
       "0                           The Hunger Games  Young Adult   \n",
       "1  Harry Potter and the Order of the Phoenix  Young Adult   \n",
       "2                        Pride and Prejudice     Classics   \n",
       "3                      To Kill a Mockingbird     Classics   \n",
       "4                             The Book Thief   Historical   \n",
       "\n",
       "                                            synopsis  \\\n",
       "0  Could you survive on your own in the wild, wit...   \n",
       "1  Harry Potter is about to start his fifth year ...   \n",
       "2  Since its immediate success in 1813, Pride and...   \n",
       "3  The unforgettable novel of a childhood in a sl...   \n",
       "4  Librarian's note: An alternate cover edition c...   \n",
       "\n",
       "                                      title_synopsis  \n",
       "0  The Hunger Games Could you survive on your own...  \n",
       "1  Harry Potter and the Order of the Phoenix Harr...  \n",
       "2  Pride and Prejudice Since its immediate succes...  \n",
       "3  To Kill a Mockingbird The unforgettable novel ...  \n",
       "4  The Book Thief Librarian's note: An alternate ...  "
      ]
     },
     "execution_count": 96,
     "metadata": {},
     "output_type": "execute_result"
    }
   ],
   "source": [
    "#Combining the title and summary column for further text preprocessing\n",
    "\n",
    "new_pred['title_synopsis']=new_pred['title'] + ' ' + new_pred['synopsis']\n",
    "new_pred.head()"
   ]
  },
  {
   "cell_type": "code",
   "execution_count": 97,
   "id": "310b00cc",
   "metadata": {},
   "outputs": [
    {
     "name": "stderr",
     "output_type": "stream",
     "text": [
      "C:\\Users\\diana\\AppData\\Local\\Temp\\ipykernel_34412\\3426462043.py:2: SettingWithCopyWarning: \n",
      "A value is trying to be set on a copy of a slice from a DataFrame.\n",
      "Try using .loc[row_indexer,col_indexer] = value instead\n",
      "\n",
      "See the caveats in the documentation: https://pandas.pydata.org/pandas-docs/stable/user_guide/indexing.html#returning-a-view-versus-a-copy\n",
      "  new_pred['title_synopsis']=new_pred['title_synopsis'].apply(lowercase)\n",
      "C:\\Users\\diana\\AppData\\Local\\Temp\\ipykernel_34412\\3426462043.py:3: SettingWithCopyWarning: \n",
      "A value is trying to be set on a copy of a slice from a DataFrame.\n",
      "Try using .loc[row_indexer,col_indexer] = value instead\n",
      "\n",
      "See the caveats in the documentation: https://pandas.pydata.org/pandas-docs/stable/user_guide/indexing.html#returning-a-view-versus-a-copy\n",
      "  new_pred['title_synopsis']=new_pred['title_synopsis'].apply(removepunc)\n",
      "C:\\Users\\diana\\AppData\\Local\\Temp\\ipykernel_34412\\3426462043.py:4: SettingWithCopyWarning: \n",
      "A value is trying to be set on a copy of a slice from a DataFrame.\n",
      "Try using .loc[row_indexer,col_indexer] = value instead\n",
      "\n",
      "See the caveats in the documentation: https://pandas.pydata.org/pandas-docs/stable/user_guide/indexing.html#returning-a-view-versus-a-copy\n",
      "  new_pred['title_synopsis']=new_pred['title_synopsis'].apply(remove_sw)\n",
      "C:\\Users\\diana\\AppData\\Local\\Temp\\ipykernel_34412\\3426462043.py:5: SettingWithCopyWarning: \n",
      "A value is trying to be set on a copy of a slice from a DataFrame.\n",
      "Try using .loc[row_indexer,col_indexer] = value instead\n",
      "\n",
      "See the caveats in the documentation: https://pandas.pydata.org/pandas-docs/stable/user_guide/indexing.html#returning-a-view-versus-a-copy\n",
      "  new_pred['title_synopsis']=new_pred['title_synopsis'].apply(stem_text)\n"
     ]
    },
    {
     "data": {
      "text/html": [
       "<div>\n",
       "<style scoped>\n",
       "    .dataframe tbody tr th:only-of-type {\n",
       "        vertical-align: middle;\n",
       "    }\n",
       "\n",
       "    .dataframe tbody tr th {\n",
       "        vertical-align: top;\n",
       "    }\n",
       "\n",
       "    .dataframe thead th {\n",
       "        text-align: right;\n",
       "    }\n",
       "</style>\n",
       "<table border=\"1\" class=\"dataframe\">\n",
       "  <thead>\n",
       "    <tr style=\"text-align: right;\">\n",
       "      <th></th>\n",
       "      <th>title</th>\n",
       "      <th>genre</th>\n",
       "      <th>synopsis</th>\n",
       "      <th>title_synopsis</th>\n",
       "    </tr>\n",
       "  </thead>\n",
       "  <tbody>\n",
       "    <tr>\n",
       "      <th>0</th>\n",
       "      <td>The Hunger Games</td>\n",
       "      <td>Young Adult</td>\n",
       "      <td>Could you survive on your own in the wild, wit...</td>\n",
       "      <td>hunger game could surviv wild everi one make s...</td>\n",
       "    </tr>\n",
       "    <tr>\n",
       "      <th>1</th>\n",
       "      <td>Harry Potter and the Order of the Phoenix</td>\n",
       "      <td>Young Adult</td>\n",
       "      <td>Harry Potter is about to start his fifth year ...</td>\n",
       "      <td>harri potter order phoenix harri potter start ...</td>\n",
       "    </tr>\n",
       "    <tr>\n",
       "      <th>2</th>\n",
       "      <td>Pride and Prejudice</td>\n",
       "      <td>Classics</td>\n",
       "      <td>Since its immediate success in 1813, Pride and...</td>\n",
       "      <td>pride prejudic sinc immedi success 1813 pride ...</td>\n",
       "    </tr>\n",
       "    <tr>\n",
       "      <th>3</th>\n",
       "      <td>To Kill a Mockingbird</td>\n",
       "      <td>Classics</td>\n",
       "      <td>The unforgettable novel of a childhood in a sl...</td>\n",
       "      <td>kill mockingbird unforgett novel childhood sle...</td>\n",
       "    </tr>\n",
       "    <tr>\n",
       "      <th>4</th>\n",
       "      <td>The Book Thief</td>\n",
       "      <td>Historical</td>\n",
       "      <td>Librarian's note: An alternate cover edition c...</td>\n",
       "      <td>book thief librarian note altern cover edit fo...</td>\n",
       "    </tr>\n",
       "  </tbody>\n",
       "</table>\n",
       "</div>"
      ],
      "text/plain": [
       "                                       title        genre  \\\n",
       "0                           The Hunger Games  Young Adult   \n",
       "1  Harry Potter and the Order of the Phoenix  Young Adult   \n",
       "2                        Pride and Prejudice     Classics   \n",
       "3                      To Kill a Mockingbird     Classics   \n",
       "4                             The Book Thief   Historical   \n",
       "\n",
       "                                            synopsis  \\\n",
       "0  Could you survive on your own in the wild, wit...   \n",
       "1  Harry Potter is about to start his fifth year ...   \n",
       "2  Since its immediate success in 1813, Pride and...   \n",
       "3  The unforgettable novel of a childhood in a sl...   \n",
       "4  Librarian's note: An alternate cover edition c...   \n",
       "\n",
       "                                      title_synopsis  \n",
       "0  hunger game could surviv wild everi one make s...  \n",
       "1  harri potter order phoenix harri potter start ...  \n",
       "2  pride prejudic sinc immedi success 1813 pride ...  \n",
       "3  kill mockingbird unforgett novel childhood sle...  \n",
       "4  book thief librarian note altern cover edit fo...  "
      ]
     },
     "execution_count": 97,
     "metadata": {},
     "output_type": "execute_result"
    }
   ],
   "source": [
    "#Finally we run the above defined funtions on the column Combined_Text\n",
    "new_pred['title_synopsis']=new_pred['title_synopsis'].apply(lowercase)\n",
    "new_pred['title_synopsis']=new_pred['title_synopsis'].apply(removepunc)\n",
    "new_pred['title_synopsis']=new_pred['title_synopsis'].apply(remove_sw)\n",
    "new_pred['title_synopsis']=new_pred['title_synopsis'].apply(stem_text)\n",
    "\n",
    "new_pred.head()"
   ]
  },
  {
   "cell_type": "code",
   "execution_count": null,
   "id": "e43875ac",
   "metadata": {},
   "outputs": [],
   "source": []
  },
  {
   "cell_type": "code",
   "execution_count": 98,
   "id": "2a70227f",
   "metadata": {},
   "outputs": [
    {
     "name": "stdout",
     "output_type": "stream",
     "text": [
      "Accuracy: 0.5096824167312161\n",
      "                  precision    recall  f1-score   support\n",
      "\n",
      "        Classics       0.67      0.08      0.15        71\n",
      "         Fantasy       0.50      0.90      0.64       264\n",
      "         Fiction       0.42      0.71      0.53       279\n",
      "      Historical       0.75      0.04      0.08        74\n",
      "          Horror       0.75      0.11      0.19        56\n",
      "      Literature       1.00      0.06      0.12        31\n",
      "Mystery/Thriller       0.63      0.43      0.51        94\n",
      "      Nonfiction       0.65      0.70      0.67       158\n",
      "      Paranormal       0.00      0.00      0.00        31\n",
      "         Romance       0.70      0.24      0.36        88\n",
      " Science Fiction       0.75      0.35      0.47        52\n",
      "     Young Adult       0.42      0.18      0.26        93\n",
      "\n",
      "        accuracy                           0.51      1291\n",
      "       macro avg       0.60      0.32      0.33      1291\n",
      "    weighted avg       0.56      0.51      0.45      1291\n",
      "\n"
     ]
    },
    {
     "name": "stderr",
     "output_type": "stream",
     "text": [
      "C:\\Users\\diana\\anaconda3\\Lib\\site-packages\\sklearn\\metrics\\_classification.py:1469: UndefinedMetricWarning: Precision and F-score are ill-defined and being set to 0.0 in labels with no predicted samples. Use `zero_division` parameter to control this behavior.\n",
      "  _warn_prf(average, modifier, msg_start, len(result))\n",
      "C:\\Users\\diana\\anaconda3\\Lib\\site-packages\\sklearn\\metrics\\_classification.py:1469: UndefinedMetricWarning: Precision and F-score are ill-defined and being set to 0.0 in labels with no predicted samples. Use `zero_division` parameter to control this behavior.\n",
      "  _warn_prf(average, modifier, msg_start, len(result))\n",
      "C:\\Users\\diana\\anaconda3\\Lib\\site-packages\\sklearn\\metrics\\_classification.py:1469: UndefinedMetricWarning: Precision and F-score are ill-defined and being set to 0.0 in labels with no predicted samples. Use `zero_division` parameter to control this behavior.\n",
      "  _warn_prf(average, modifier, msg_start, len(result))\n"
     ]
    }
   ],
   "source": [
    "from sklearn.model_selection import train_test_split\n",
    "from sklearn.feature_extraction.text import TfidfVectorizer\n",
    "from sklearn.ensemble import RandomForestClassifier\n",
    "from sklearn.metrics import accuracy_score, classification_report\n",
    "\n",
    "# Split the data into train and test sets\n",
    "X_train, X_test, y_train, y_test = train_test_split(new_pred['title_synopsis'], new_pred['genre'], test_size=0.2, random_state=42)\n",
    "\n",
    "# Convert text data to numerical features using TF-IDF\n",
    "tfidf_vectorizer = TfidfVectorizer(max_features=1000)  # You can adjust the max_features parameter\n",
    "X_train_tfidf = tfidf_vectorizer.fit_transform(X_train)\n",
    "X_test_tfidf = tfidf_vectorizer.transform(X_test)\n",
    "\n",
    "# Train the model (example with RandomForestClassifier)\n",
    "rf_classifier = RandomForestClassifier(n_estimators=300)\n",
    "rf_classifier.fit(X_train_tfidf, y_train)\n",
    "\n",
    "# Make predictions on the test set\n",
    "y_pred = rf_classifier.predict(X_test_tfidf)\n",
    "\n",
    "# Evaluate the model\n",
    "accuracy = accuracy_score(y_test, y_pred)\n",
    "print(\"Accuracy:\", accuracy)\n",
    "print(classification_report(y_test, y_pred))\n"
   ]
  },
  {
   "cell_type": "markdown",
   "id": "bd74edf4",
   "metadata": {},
   "source": [
    "# \"Book Genre Prediction from Synopsis\""
   ]
  },
  {
   "cell_type": "code",
   "execution_count": 129,
   "id": "1fc82aea",
   "metadata": {},
   "outputs": [],
   "source": [
    "#book_1 = The Fortress of Solitude - Jonathan Lethem - Nonfiction\n",
    "\n",
    "synopsis_1 = '''This is the story of two boys, Dylan Ebdus and Mingus Rude. They live in Brooklyn and are friends and \n",
    "neighbours; but since Dylan is white and Mingus is black, their friendship is not simple.\n",
    "\n",
    "This is the story of 1970s America, a time when the simplest decisions—what music you listen to, whether to speak to \n",
    "the kid in the seat next to you, whether to give up your lunch money—are laden with potential political, \n",
    "social and racial disaster. This is also the story of 1990s America, when nobody cared anymore.\n",
    "\n",
    "This is the story of what would happen if two teenaged boys obsessed with comic book heroes actually had superpowers: \n",
    "they would screw up their lives.'''"
   ]
  },
  {
   "cell_type": "code",
   "execution_count": 100,
   "id": "3e075fe2",
   "metadata": {},
   "outputs": [
    {
     "name": "stdout",
     "output_type": "stream",
     "text": [
      "Predicted Genre: ['Nonfiction']\n"
     ]
    }
   ],
   "source": [
    "new_synopsis = synopsis_1\n",
    "\n",
    "# Preprocess the new synopsis\n",
    "new_synopsis = lowercase(new_synopsis)\n",
    "new_synopsis = removepunc(new_synopsis)\n",
    "new_synopsis = remove_sw(new_synopsis)\n",
    "new_synopsis = stem_text(new_synopsis)\n",
    "\n",
    "# Vectorize the new synopsis using the pre-trained TF-IDF vectorizer\n",
    "new_synopsis_vectorized = tfidf_vectorizer.transform([new_synopsis])\n",
    "\n",
    "# Make predictions using the pre-trained RandomForestClassifier model\n",
    "predicted_genre = rf_classifier.predict(new_synopsis_vectorized)\n",
    "\n",
    "# Print the predicted genre\n",
    "print(\"Predicted Genre:\", predicted_genre)\n"
   ]
  },
  {
   "cell_type": "code",
   "execution_count": 101,
   "id": "e86b4dee",
   "metadata": {},
   "outputs": [],
   "source": [
    "#book_2 = Around the World in Eighty Days - Jules Verne - Fiction\n",
    "\n",
    "synopsis_2 = '''One night in the reform club, Phileas Fogg bets his companions that he can travel across the globe in just\n",
    "eighty days. Breaking the well-established routine of his daily life, he immediately sets off for Dover with his astonished\n",
    "valet Passepartout. Passing through exotic lands and dangerous locations, they seize whatever transportation is at \n",
    "hand—whether train or elephant—overcoming set-backs and always racing against the clock.'''"
   ]
  },
  {
   "cell_type": "code",
   "execution_count": 102,
   "id": "c1c40879",
   "metadata": {},
   "outputs": [
    {
     "name": "stdout",
     "output_type": "stream",
     "text": [
      "Predicted Genre: ['Fiction']\n"
     ]
    }
   ],
   "source": [
    "new_synopsis = synopsis_2\n",
    "\n",
    "# Preprocess the new synopsis\n",
    "new_synopsis = lowercase(new_synopsis)\n",
    "new_synopsis = removepunc(new_synopsis)\n",
    "new_synopsis = remove_sw(new_synopsis)\n",
    "new_synopsis = stem_text(new_synopsis)\n",
    "\n",
    "# Vectorize the new synopsis using the pre-trained TF-IDF vectorizer\n",
    "new_synopsis_vectorized = tfidf_vectorizer.transform([new_synopsis])\n",
    "\n",
    "# Make predictions using the pre-trained RandomForestClassifier model\n",
    "predicted_genre = rf_classifier.predict(new_synopsis_vectorized)\n",
    "\n",
    "# Print the predicted genre\n",
    "print(\"Predicted Genre:\", predicted_genre)\n"
   ]
  },
  {
   "cell_type": "code",
   "execution_count": 103,
   "id": "77c3458d",
   "metadata": {},
   "outputs": [],
   "source": [
    "#book_3 = Junkyard Dogs - Craig Johnson - Mystery\n",
    "\n",
    "synopsis_3 = '''A missing thumb and dead developers are only the beginning for Sheriff Walt Longmire\n",
    "\n",
    "It's a volatile new economy in Durant, Wyoming, where the owners of a multi-million dollar development of ranchettes \n",
    "want to get rid of the adjacent junk-yard. When a severed thumb is discovered in the yard, conflicts erupt, and Walt \n",
    "Longmire, his trusty companion Dog, life-long friend Henry Standing Bear, and deputies Santiago Saizarbitoria and \n",
    "Victoria Moretti find themselves in a small town that feels more and more like a high plains pressure cooker.\n",
    "\n",
    "Craig Johnson's award-winning Walt Longmire mysteries continue to find new fans, and Junkyard Dogs is sure to create \n",
    "many more devotees. The sixth book in the series is filled with Johnson's signature blend of wisecracks, Western justice, \n",
    "and page-turning plot twists, as the beloved sheriff finds himself star-deep in the darker aspects of human nature, \n",
    "in a story of love, laughs, death, and derelict automobiles.'''"
   ]
  },
  {
   "cell_type": "code",
   "execution_count": 104,
   "id": "34c2506e",
   "metadata": {},
   "outputs": [
    {
     "name": "stdout",
     "output_type": "stream",
     "text": [
      "Predicted Genre: ['Fiction']\n"
     ]
    }
   ],
   "source": [
    "new_synopsis = synopsis_3\n",
    "\n",
    "# Preprocess the new synopsis\n",
    "new_synopsis = lowercase(new_synopsis)\n",
    "new_synopsis = removepunc(new_synopsis)\n",
    "new_synopsis = remove_sw(new_synopsis)\n",
    "new_synopsis = stem_text(new_synopsis)\n",
    "\n",
    "# Vectorize the new synopsis using the pre-trained TF-IDF vectorizer\n",
    "new_synopsis_vectorized = tfidf_vectorizer.transform([new_synopsis])\n",
    "\n",
    "# Make predictions using the pre-trained RandomForestClassifier model\n",
    "predicted_genre = rf_classifier.predict(new_synopsis_vectorized)\n",
    "\n",
    "# Print the predicted genre\n",
    "print(\"Predicted Genre:\", predicted_genre)\n"
   ]
  },
  {
   "cell_type": "code",
   "execution_count": 105,
   "id": "25f106fc",
   "metadata": {},
   "outputs": [],
   "source": [
    "#book_4 = Mossflower - Brian Jacques - Fantasy\n",
    "\n",
    "synopsis_4 = '''The thrilling prequel to \"Redwall\". The clever and greedy wildcat Tsarmina becomes ruler of all \n",
    "Mossflower Woods and is determined to govern the peaceful woodlanders with an iron paw. The brave mouse Martin \n",
    "and quick-talking mouse thief Gonff meet in the depths of Kotir Castle's dungeon. The two escape and resolve to end \n",
    "Tsarmina's tyrannical rule. Joined by Kinny the mole, Martin and Gonff set off on a dangerous quest for Salamandastron, \n",
    "where they are convinced that their only hope, Boar the Fighter, still lives.'''"
   ]
  },
  {
   "cell_type": "code",
   "execution_count": 106,
   "id": "8d6f59c0",
   "metadata": {},
   "outputs": [
    {
     "name": "stdout",
     "output_type": "stream",
     "text": [
      "Predicted Genre: ['Fantasy']\n"
     ]
    }
   ],
   "source": [
    "new_synopsis = synopsis_4\n",
    "\n",
    "# Preprocess the new synopsis\n",
    "new_synopsis = lowercase(new_synopsis)\n",
    "new_synopsis = removepunc(new_synopsis)\n",
    "new_synopsis = remove_sw(new_synopsis)\n",
    "new_synopsis = stem_text(new_synopsis)\n",
    "\n",
    "# Vectorize the new synopsis using the pre-trained TF-IDF vectorizer\n",
    "new_synopsis_vectorized = tfidf_vectorizer.transform([new_synopsis])\n",
    "\n",
    "# Make predictions using the pre-trained RandomForestClassifier model\n",
    "predicted_genre = rf_classifier.predict(new_synopsis_vectorized)\n",
    "\n",
    "# Print the predicted genre\n",
    "print(\"Predicted Genre:\", predicted_genre)\n"
   ]
  },
  {
   "cell_type": "code",
   "execution_count": 107,
   "id": "4751e1d0",
   "metadata": {},
   "outputs": [],
   "source": [
    "#book_5 = I Can Read With My Eyes Shut! - Dr. Seuss - Fiction\n",
    "\n",
    "synopsis_5 = '''“The more that you read, the more things you will know. The more you learn, the more places you’ll go”. \n",
    "In this delightful book, Dr. Seuss celebrates the joys of reading, encouraging young children to take pride in their \n",
    "budding reading abilities. With his unique combination of hilarious stories, zany pictures and riotous rhymes, Dr. Seuss \n",
    "has been delighting young children and helping them learn to read for over fifty years. Creator of the wonderfully \n",
    "anarchic Cat in the Hat, and ranked among the UK's top ten favourite children's authors, Seuss is firmly established as a \n",
    "global best-seller, with nearly half a billion books sold worldwide. As the first step in a major rebrand programme, \n",
    "HarperCollins is relaunching 17 of Dr. Seuss's best-selling books, including such perennial favourites as The Cat in the \n",
    "Hat, Green Eggs and Ham and Fox in Socks. In response to consumer demand, the bright new cover designs incorporate much \n",
    "needed guidance on reading levels, with the standard paperbacks divided into three reading strands – Blue Back Books \n",
    "for parents to share with young children, Green Back Books for budding readers to tackle on their own, \n",
    "and Yellow Back Books for older, more fluent readers to enjoy. I Can Read With My Eyes Shut belongs to the Green Back Book \n",
    "range.'''"
   ]
  },
  {
   "cell_type": "code",
   "execution_count": 108,
   "id": "3b395e4e",
   "metadata": {},
   "outputs": [
    {
     "name": "stdout",
     "output_type": "stream",
     "text": [
      "Predicted Genre: ['Fiction']\n"
     ]
    }
   ],
   "source": [
    "new_synopsis = synopsis_5\n",
    "\n",
    "# Preprocess the new synopsis\n",
    "new_synopsis = lowercase(new_synopsis)\n",
    "new_synopsis = removepunc(new_synopsis)\n",
    "new_synopsis = remove_sw(new_synopsis)\n",
    "new_synopsis = stem_text(new_synopsis)\n",
    "\n",
    "# Vectorize the new synopsis using the pre-trained TF-IDF vectorizer\n",
    "new_synopsis_vectorized = tfidf_vectorizer.transform([new_synopsis])\n",
    "\n",
    "# Make predictions using the pre-trained RandomForestClassifier model\n",
    "predicted_genre = rf_classifier.predict(new_synopsis_vectorized)\n",
    "\n",
    "# Print the predicted genre\n",
    "print(\"Predicted Genre:\", predicted_genre)\n"
   ]
  },
  {
   "cell_type": "code",
   "execution_count": 109,
   "id": "728a1ad1",
   "metadata": {},
   "outputs": [],
   "source": [
    "#book_6 = The Host - Stephenie Meyer - Young Adult\n",
    "\n",
    "synopsis_6 = '''Melanie Stryder refuses to fade away. The earth has been invaded by a species that take over the minds \n",
    "of human hosts while leaving their bodies intact. Wanderer, the invading \"soul\" who has been given Melanie's body, \n",
    "didn't expect to find its former tenant refusing to relinquish possession of her mind.\n",
    "\n",
    "As Melanie fills Wanderer's thoughts with visions of Jared, a human who still lives in hiding, Wanderer begins to yearn \n",
    "for a man she's never met. Reluctant allies, Wanderer and Melanie set off to search for the man they both love.'''"
   ]
  },
  {
   "cell_type": "code",
   "execution_count": 110,
   "id": "333f7c41",
   "metadata": {},
   "outputs": [
    {
     "name": "stdout",
     "output_type": "stream",
     "text": [
      "Predicted Genre: ['Young Adult']\n"
     ]
    }
   ],
   "source": [
    "new_synopsis = synopsis_6\n",
    "\n",
    "# Preprocess the new synopsis\n",
    "new_synopsis = lowercase(new_synopsis)\n",
    "new_synopsis = removepunc(new_synopsis)\n",
    "new_synopsis = remove_sw(new_synopsis)\n",
    "new_synopsis = stem_text(new_synopsis)\n",
    "\n",
    "# Vectorize the new synopsis using the pre-trained TF-IDF vectorizer\n",
    "new_synopsis_vectorized = tfidf_vectorizer.transform([new_synopsis])\n",
    "\n",
    "# Make predictions using the pre-trained RandomForestClassifier model\n",
    "predicted_genre = rf_classifier.predict(new_synopsis_vectorized)\n",
    "\n",
    "# Print the predicted genre\n",
    "print(\"Predicted Genre:\", predicted_genre)\n"
   ]
  },
  {
   "cell_type": "code",
   "execution_count": 111,
   "id": "e97e066f",
   "metadata": {},
   "outputs": [],
   "source": [
    "#book_7 = Bridge to Terabithia - Katherine Paterson - Fiction\n",
    "\n",
    "synopsis_7 = '''Jess Aarons has been practicing all summer so he can be the fastest runner in the fifth grade. \n",
    "And he almost is, until the new girl in school, Leslie Burke, outpaces him. The two become fast friends and spend most \n",
    "days in the woods behind Leslie's house, where they invent an enchanted land called Terabithia. One morning, \n",
    "Leslie goes to Terabithia without Jess and a tragedy occurs. It will take the love of his family and the strength that\n",
    "Leslie has given him for Jess to be able to deal with his grief.'''"
   ]
  },
  {
   "cell_type": "code",
   "execution_count": 112,
   "id": "89a2478e",
   "metadata": {},
   "outputs": [
    {
     "name": "stdout",
     "output_type": "stream",
     "text": [
      "Predicted Genre: ['Fiction']\n"
     ]
    }
   ],
   "source": [
    "new_synopsis = synopsis_7\n",
    "\n",
    "# Preprocess the new synopsis\n",
    "new_synopsis = lowercase(new_synopsis)\n",
    "new_synopsis = removepunc(new_synopsis)\n",
    "new_synopsis = remove_sw(new_synopsis)\n",
    "new_synopsis = stem_text(new_synopsis)\n",
    "\n",
    "# Vectorize the new synopsis using the pre-trained TF-IDF vectorizer\n",
    "new_synopsis_vectorized = tfidf_vectorizer.transform([new_synopsis])\n",
    "\n",
    "# Make predictions using the pre-trained RandomForestClassifier model\n",
    "predicted_genre = rf_classifier.predict(new_synopsis_vectorized)\n",
    "\n",
    "# Print the predicted genre\n",
    "print(\"Predicted Genre:\", predicted_genre)\n"
   ]
  },
  {
   "cell_type": "code",
   "execution_count": 113,
   "id": "4697d5b9",
   "metadata": {},
   "outputs": [],
   "source": [
    "#book_8 = Hopeless - Colleen Hoover - Romance\n",
    "\n",
    "synopsis_8 = '''That’s what seventeen-year-old Sky realizes after she meets Dean Holder. A guy with a reputation that \n",
    "rivals her own and an uncanny ability to invoke feelings in her she’s never had before. He terrifies her and captivates \n",
    "her all in the span of just one encounter, and something about the way he makes her feel sparks buried memories from a \n",
    "past that she wishes could just stay buried.\n",
    "\n",
    "Sky struggles to keep him at a distance knowing he’s nothing but trouble, but Holder insists on learning everything \n",
    "about her. After finally caving to his unwavering pursuit, Sky soon finds that Holder isn’t at all who he’s been \n",
    "claiming to be. When the secrets he’s been keeping are finally revealed, every single facet of Sky’s life will change \n",
    "forever.'''"
   ]
  },
  {
   "cell_type": "code",
   "execution_count": 114,
   "id": "5075988c",
   "metadata": {},
   "outputs": [
    {
     "name": "stdout",
     "output_type": "stream",
     "text": [
      "Predicted Genre: ['Romance']\n"
     ]
    }
   ],
   "source": [
    "new_synopsis = synopsis_8\n",
    "\n",
    "# Preprocess the new synopsis\n",
    "new_synopsis = lowercase(new_synopsis)\n",
    "new_synopsis = removepunc(new_synopsis)\n",
    "new_synopsis = remove_sw(new_synopsis)\n",
    "new_synopsis = stem_text(new_synopsis)\n",
    "\n",
    "# Vectorize the new synopsis using the pre-trained TF-IDF vectorizer\n",
    "new_synopsis_vectorized = tfidf_vectorizer.transform([new_synopsis])\n",
    "\n",
    "# Make predictions using the pre-trained RandomForestClassifier model\n",
    "predicted_genre = rf_classifier.predict(new_synopsis_vectorized)\n",
    "\n",
    "# Print the predicted genre\n",
    "print(\"Predicted Genre:\", predicted_genre)\n"
   ]
  },
  {
   "cell_type": "code",
   "execution_count": 115,
   "id": "9928444a",
   "metadata": {},
   "outputs": [],
   "source": [
    "#book_9 = Bared to You - Sylvia Day - Romance\n",
    "\n",
    "synopsis_9 = '''Gideon Cross came into my life like lightning in the darkness...\n",
    "\n",
    "He was beautiful and brilliant, jagged and white-hot. I was drawn to him as I'd never been to anything or anyone in my life.\n",
    "I craved his touch like a drug, even knowing it would weaken me. I was flawed and damaged, and he opened those cracks \n",
    "in me so easily...\n",
    "\n",
    "Gideon knew. He had demons of his own. And we would become the mirrors that reflected each other's most private worlds...\n",
    "and desires.\n",
    "\n",
    "The bonds of his love transformed me, even as I prayed that the torment of our pasts didn't tear us apart...'''"
   ]
  },
  {
   "cell_type": "code",
   "execution_count": 116,
   "id": "1aa7b1c0",
   "metadata": {},
   "outputs": [
    {
     "name": "stdout",
     "output_type": "stream",
     "text": [
      "Predicted Genre: ['Romance']\n"
     ]
    }
   ],
   "source": [
    "new_synopsis = synopsis_9\n",
    "\n",
    "# Preprocess the new synopsis\n",
    "new_synopsis = lowercase(new_synopsis)\n",
    "new_synopsis = removepunc(new_synopsis)\n",
    "new_synopsis = remove_sw(new_synopsis)\n",
    "new_synopsis = stem_text(new_synopsis)\n",
    "\n",
    "# Vectorize the new synopsis using the pre-trained TF-IDF vectorizer\n",
    "new_synopsis_vectorized = tfidf_vectorizer.transform([new_synopsis])\n",
    "\n",
    "# Make predictions using the pre-trained RandomForestClassifier model\n",
    "predicted_genre = rf_classifier.predict(new_synopsis_vectorized)\n",
    "\n",
    "# Print the predicted genre\n",
    "print(\"Predicted Genre:\", predicted_genre)\n"
   ]
  },
  {
   "cell_type": "code",
   "execution_count": 117,
   "id": "4acbab82",
   "metadata": {},
   "outputs": [],
   "source": [
    "#book_10 = And Then There Were None - Agatha Christie - Mystery\n",
    "\n",
    "synopsis_10 = '''First, there were ten—a curious assortment of strangers summoned as weekend guests to a little private \n",
    "island off the coast of Devon. Their host, an eccentric millionaire unknown to all of them, is nowhere to be found. \n",
    "All that the guests have in common is a wicked past they're unwilling to reveal—and a secret that will seal their fate. \n",
    "For each has been marked for murder. A famous nursery rhyme is framed and hung in every room of the mansion:\n",
    "\n",
    "\"Ten little boys went out to dine; One choked his little self and then there were nine. Nine little boys sat up very late; \n",
    "One overslept himself and then there were eight. Eight little boys traveling in Devon; One said he'd stay there then there\n",
    "were seven. Seven little boys chopping up sticks; One chopped himself in half and then there were six. Six little boys \n",
    "playing with a hive; A bumblebee stung one and then there were five. Five little boys going in for law; One got in \n",
    "Chancery and then there were four. Four little boys going out to sea; A red herring swallowed one and then there were three.\n",
    "Three little boys walking in the zoo; A big bear hugged one and then there were two. Two little boys sitting in the sun; \n",
    "One got frizzled up and then there was one. One little boy left all alone; He went out and hanged himself and then there \n",
    "were none.\"\n",
    "\n",
    "When they realize that murders are occurring as described in the rhyme, terror mounts. One by one they fall prey. \n",
    "Before the weekend is out, there will be none. Who has choreographed this dastardly scheme? And who will be left to tell \n",
    "the tale? Only the dead are above suspicion.'''"
   ]
  },
  {
   "cell_type": "code",
   "execution_count": 118,
   "id": "f19d3a03",
   "metadata": {},
   "outputs": [
    {
     "name": "stdout",
     "output_type": "stream",
     "text": [
      "Predicted Genre: ['Mystery/Thriller']\n"
     ]
    }
   ],
   "source": [
    "new_synopsis = synopsis_10\n",
    "\n",
    "# Preprocess the new synopsis\n",
    "new_synopsis = lowercase(new_synopsis)\n",
    "new_synopsis = removepunc(new_synopsis)\n",
    "new_synopsis = remove_sw(new_synopsis)\n",
    "new_synopsis = stem_text(new_synopsis)\n",
    "\n",
    "# Vectorize the new synopsis using the pre-trained TF-IDF vectorizer\n",
    "new_synopsis_vectorized = tfidf_vectorizer.transform([new_synopsis])\n",
    "\n",
    "# Make predictions using the pre-trained RandomForestClassifier model\n",
    "predicted_genre = rf_classifier.predict(new_synopsis_vectorized)\n",
    "\n",
    "# Print the predicted genre\n",
    "print(\"Predicted Genre:\", predicted_genre)\n"
   ]
  },
  {
   "cell_type": "code",
   "execution_count": 119,
   "id": "36988c32",
   "metadata": {},
   "outputs": [],
   "source": [
    "#book_11 = The Maltese Falcon - Dashiell Hammett - Mystery\n",
    "\n",
    "synopsis_11 = '''Sam Spade is hired by the fragrant Miss Wonderley to track down her sister, who has eloped with a \n",
    "louse called Floyd Thursby. But Miss Wonderley is in fact the beautiful and treacherous Brigid O'Shaughnessy, \n",
    "and when Spade's partner Miles Archer is shot while on Thursby's trail, Spade finds himself both hunter and hunted: \n",
    "can he track down the jewel-encrusted bird, a treasure worth killing for, before the Fat Man finds him?'''"
   ]
  },
  {
   "cell_type": "code",
   "execution_count": 120,
   "id": "9028c7d3",
   "metadata": {},
   "outputs": [
    {
     "name": "stdout",
     "output_type": "stream",
     "text": [
      "Predicted Genre: ['Mystery/Thriller']\n"
     ]
    }
   ],
   "source": [
    "new_synopsis = synopsis_11\n",
    "\n",
    "# Preprocess the new synopsis\n",
    "new_synopsis = lowercase(new_synopsis)\n",
    "new_synopsis = removepunc(new_synopsis)\n",
    "new_synopsis = remove_sw(new_synopsis)\n",
    "new_synopsis = stem_text(new_synopsis)\n",
    "\n",
    "# Vectorize the new synopsis using the pre-trained TF-IDF vectorizer\n",
    "new_synopsis_vectorized = tfidf_vectorizer.transform([new_synopsis])\n",
    "\n",
    "# Make predictions using the pre-trained RandomForestClassifier model\n",
    "predicted_genre = rf_classifier.predict(new_synopsis_vectorized)\n",
    "\n",
    "# Print the predicted genre\n",
    "print(\"Predicted Genre:\", predicted_genre)\n"
   ]
  },
  {
   "cell_type": "code",
   "execution_count": 121,
   "id": "5c5e278a",
   "metadata": {},
   "outputs": [],
   "source": [
    "#book_12 = Hamlet - William Shakespeare - Classics\n",
    "\n",
    "synopsis_12 = '''Among Shakespeare's plays, \"Hamlet\" is considered by many his masterpiece. Among actors, the role of \n",
    "Hamlet, Prince of Denmark, is considered the jewel in the crown of a triumphant theatrical career. Now Kenneth Branagh \n",
    "plays the leading role and co-directs a brillant ensemble performance. Three generations of legendary leading actors, \n",
    "many of whom first assembled for the Oscar-winning film \"Henry V\", gather here to perform the rarely heard complete version\n",
    "of the play. This clear, subtly nuanced, stunning dramatization, presented by The Renaissance Theatre Company in \n",
    "association with \"Bbc\" Broadcasting, features such luminaries as Sir John Gielgud, Derek Jacobi, Emma Thompson and \n",
    "Christopher Ravenscroft. It combines a full cast with stirring music and sound effects to bring this magnificent \n",
    "Shakespearen classic vividly to life. Revealing new riches with each listening, this production of \"Hamlet\" is an \n",
    "invaluable aid for students, teachers and all true lovers of Shakespeare - a recording to be treasured for decades to come.'''\n"
   ]
  },
  {
   "cell_type": "code",
   "execution_count": 122,
   "id": "6ca370ad",
   "metadata": {},
   "outputs": [
    {
     "name": "stdout",
     "output_type": "stream",
     "text": [
      "Predicted Genre: ['Classics']\n"
     ]
    }
   ],
   "source": [
    "new_synopsis = synopsis_12\n",
    "\n",
    "# Preprocess the new synopsis\n",
    "new_synopsis = lowercase(new_synopsis)\n",
    "new_synopsis = removepunc(new_synopsis)\n",
    "new_synopsis = remove_sw(new_synopsis)\n",
    "new_synopsis = stem_text(new_synopsis)\n",
    "\n",
    "# Vectorize the new synopsis using the pre-trained TF-IDF vectorizer\n",
    "new_synopsis_vectorized = tfidf_vectorizer.transform([new_synopsis])\n",
    "\n",
    "# Make predictions using the pre-trained RandomForestClassifier model\n",
    "predicted_genre = rf_classifier.predict(new_synopsis_vectorized)\n",
    "\n",
    "# Print the predicted genre\n",
    "print(\"Predicted Genre:\", predicted_genre)\n"
   ]
  },
  {
   "cell_type": "code",
   "execution_count": 123,
   "id": "7b8f0420",
   "metadata": {},
   "outputs": [],
   "source": [
    "#book_13 = Sense and Sensibility - Jane Austen - Classics\n",
    "\n",
    "synopsis_13 = ''''The more I know of the world, the more am I convinced that I shall never see a man whom I can really love.\n",
    "I require so much!'\n",
    "\n",
    "Marianne Dashwood wears her heart on her sleeve, and when she falls in love with the dashing but unsuitable John Willoughby\n",
    "she ignores her sister Elinor's warning that her impulsive behaviour leaves her open to gossip and innuendo. \n",
    "Meanwhile Elinor, always sensitive to social convention, is struggling to conceal her own romantic disappointment, \n",
    "even from those closest to her. Through their parallel experience of love—and its threatened loss—the sisters learn \n",
    "that sense must mix with sensibility if they are to find personal happiness in a society where status and money govern \n",
    "the rules of love.'''"
   ]
  },
  {
   "cell_type": "code",
   "execution_count": 124,
   "id": "a0f40c09",
   "metadata": {},
   "outputs": [
    {
     "name": "stdout",
     "output_type": "stream",
     "text": [
      "Predicted Genre: ['Classics']\n"
     ]
    }
   ],
   "source": [
    "new_synopsis = synopsis_13\n",
    "\n",
    "# Preprocess the new synopsis\n",
    "new_synopsis = lowercase(new_synopsis)\n",
    "new_synopsis = removepunc(new_synopsis)\n",
    "new_synopsis = remove_sw(new_synopsis)\n",
    "new_synopsis = stem_text(new_synopsis)\n",
    "\n",
    "# Vectorize the new synopsis using the pre-trained TF-IDF vectorizer\n",
    "new_synopsis_vectorized = tfidf_vectorizer.transform([new_synopsis])\n",
    "\n",
    "# Make predictions using the pre-trained RandomForestClassifier model\n",
    "predicted_genre = rf_classifier.predict(new_synopsis_vectorized)\n",
    "\n",
    "# Print the predicted genre\n",
    "print(\"Predicted Genre:\", predicted_genre)\n"
   ]
  },
  {
   "cell_type": "code",
   "execution_count": 125,
   "id": "fdc036d3",
   "metadata": {},
   "outputs": [],
   "source": [
    "#book_14 = Goodnight Moon - Margaret Wise Brown - Fantasy \n",
    "\n",
    "synopsis_14 = '''In a great green room, tucked away in bed, is a little bunny. \"Goodnight room, goodnight moon.\" \n",
    "And to all the familiar things in the softly lit room -- to the picture of the three little bears sitting on chairs, \n",
    "to the clocks and his socks, to the mittens and the kittens, to everything one by one -- the little bunny says goodnight.'''\n"
   ]
  },
  {
   "cell_type": "code",
   "execution_count": 126,
   "id": "556e552d",
   "metadata": {},
   "outputs": [
    {
     "name": "stdout",
     "output_type": "stream",
     "text": [
      "Predicted Genre: ['Fantasy']\n"
     ]
    }
   ],
   "source": [
    "new_synopsis = synopsis_14\n",
    "\n",
    "# Preprocess the new synopsis\n",
    "new_synopsis = lowercase(new_synopsis)\n",
    "new_synopsis = removepunc(new_synopsis)\n",
    "new_synopsis = remove_sw(new_synopsis)\n",
    "new_synopsis = stem_text(new_synopsis)\n",
    "\n",
    "# Vectorize the new synopsis using the pre-trained TF-IDF vectorizer\n",
    "new_synopsis_vectorized = tfidf_vectorizer.transform([new_synopsis])\n",
    "\n",
    "# Make predictions using the pre-trained RandomForestClassifier model\n",
    "predicted_genre = rf_classifier.predict(new_synopsis_vectorized)\n",
    "\n",
    "# Print the predicted genre\n",
    "print(\"Predicted Genre:\", predicted_genre)\n"
   ]
  },
  {
   "cell_type": "code",
   "execution_count": 127,
   "id": "a0cf175e",
   "metadata": {},
   "outputs": [],
   "source": [
    "#book_15 = Little House on the Prairie - Laura Ingalls Wilder - Classics\n",
    "\n",
    "synopsis_15 = '''Meet Laura Ingalls, the little girl who would grow up to write the Little House books. Pa Ingalls \n",
    "decides to sell the little log house, and the family sets out for Indian country! They travel from Wisconsin to Kansas, \n",
    "and there, finally, Pa builds their little house on the prairie. Sometimes farm life is difficult, even dangerous, \n",
    "but Laura and her family are kept busy and are happy with the promise of their new life on the prairie.'''"
   ]
  },
  {
   "cell_type": "code",
   "execution_count": 128,
   "id": "672a028a",
   "metadata": {},
   "outputs": [
    {
     "name": "stdout",
     "output_type": "stream",
     "text": [
      "Predicted Genre: ['Classics']\n"
     ]
    }
   ],
   "source": [
    "new_synopsis = synopsis_15\n",
    "\n",
    "# Preprocess the new synopsis\n",
    "new_synopsis = lowercase(new_synopsis)\n",
    "new_synopsis = removepunc(new_synopsis)\n",
    "new_synopsis = remove_sw(new_synopsis)\n",
    "new_synopsis = stem_text(new_synopsis)\n",
    "\n",
    "# Vectorize the new synopsis using the pre-trained TF-IDF vectorizer\n",
    "new_synopsis_vectorized = tfidf_vectorizer.transform([new_synopsis])\n",
    "\n",
    "# Make predictions using the pre-trained RandomForestClassifier model\n",
    "predicted_genre = rf_classifier.predict(new_synopsis_vectorized)\n",
    "\n",
    "# Print the predicted genre\n",
    "print(\"Predicted Genre:\", predicted_genre)\n"
   ]
  },
  {
   "cell_type": "code",
   "execution_count": 130,
   "id": "6c9eb59f",
   "metadata": {},
   "outputs": [],
   "source": [
    "#book_16 = A Short History of Nearly Everything - Bill Bryson - Nonfiction\n",
    "\n",
    "synopsis_16 = '''Bill Bryson describes himself as a reluctant traveller, but even when he stays safely at home \n",
    "he can't contain his curiosity about the world around him. \"A Short History of Nearly Everything\" is his quest \n",
    "to understand everything that has happened from the Big Bang to the rise of civilisation - how we got from there, \n",
    "being nothing at all, to here, being us. The ultimate eye-opening journey through time and space, revealing the world \n",
    "in a way most of us have never seen it before.'''"
   ]
  },
  {
   "cell_type": "code",
   "execution_count": 131,
   "id": "73d7f698",
   "metadata": {},
   "outputs": [
    {
     "name": "stdout",
     "output_type": "stream",
     "text": [
      "Predicted Genre: ['Nonfiction']\n"
     ]
    }
   ],
   "source": [
    "new_synopsis = synopsis_16\n",
    "\n",
    "# Preprocess the new synopsis\n",
    "new_synopsis = lowercase(new_synopsis)\n",
    "new_synopsis = removepunc(new_synopsis)\n",
    "new_synopsis = remove_sw(new_synopsis)\n",
    "new_synopsis = stem_text(new_synopsis)\n",
    "\n",
    "# Vectorize the new synopsis using the pre-trained TF-IDF vectorizer\n",
    "new_synopsis_vectorized = tfidf_vectorizer.transform([new_synopsis])\n",
    "\n",
    "# Make predictions using the pre-trained RandomForestClassifier model\n",
    "predicted_genre = rf_classifier.predict(new_synopsis_vectorized)\n",
    "\n",
    "# Print the predicted genre\n",
    "print(\"Predicted Genre:\", predicted_genre)\n"
   ]
  },
  {
   "cell_type": "code",
   "execution_count": 132,
   "id": "e2c06113",
   "metadata": {},
   "outputs": [],
   "source": [
    "#book_17 = The Immortal Life of Henrietta Lacks - Rebecca Skloot - Nonfiction\n",
    "\n",
    "synopsis_17 = '''Her name was Henrietta Lacks, but scientists know her as HeLa. She was a poor Southern tobacco farmer\n",
    "who worked the same land as her enslaved ancestors, yet her cells—taken without her knowledge—became one of the most \n",
    "important tools in medicine. The first “immortal” human cells grown in culture, they are still alive today, though she \n",
    "has been dead for more than sixty years. If you could pile all HeLa cells ever grown onto a scale, they’d weigh more \n",
    "than 50 million metric tons—as much as a hundred Empire State Buildings. HeLa cells were vital for developing the polio \n",
    "vaccine; uncovered secrets of cancer, viruses, and the atom bomb’s effects; helped lead to important advances like in \n",
    "vitro fertilization, cloning, and gene mapping; and have been bought and sold by the billions.\n",
    "\n",
    "Yet Henrietta Lacks remains virtually unknown, buried in an unmarked grave.\n",
    "\n",
    "Now Rebecca Skloot takes us on an extraordinary journey, from the “colored” ward of Johns Hopkins Hospital in the 1950s \n",
    "to stark white laboratories with freezers full of HeLa cells; from Henrietta’s small, dying hometown of Clover, Virginia — \n",
    "a land of wooden quarters for enslaved people, faith healings, and voodoo — to East Baltimore today, where her children \n",
    "and grandchildren live and struggle with the legacy of her cells.\n",
    "\n",
    "Henrietta’s family did not learn of her “immortality” until more than twenty years after her death, when scientists \n",
    "investigating HeLa began using her husband and children in research without informed consent. And though the cells \n",
    "had launched a multimillion-dollar industry that sells human biological materials, her family never saw any of the profits. As Rebecca Skloot so brilliantly shows, the story of the Lacks family — past and present — is inextricably connected to the history of experimentation on African Americans, the birth of bioethics, and the legal battles over whether we control the stuff we are made of.\n",
    "\n",
    "Over the decade it took to uncover this story, Rebecca became enmeshed in the lives of the Lacks family—especially \n",
    "Henrietta’s daughter Deborah, who was devastated to learn about her mother’s cells. She was consumed with questions: \n",
    "Had scientists cloned her mother? Did it hurt her when researchers infected her cells with viruses and shot them into space?\n",
    "What happened to her sister, Elsie, who died in a mental institution at the age of fifteen? And if her mother was so \n",
    "important to medicine, why couldn’t her children afford health insurance?'''"
   ]
  },
  {
   "cell_type": "code",
   "execution_count": 133,
   "id": "81e670d5",
   "metadata": {},
   "outputs": [
    {
     "name": "stdout",
     "output_type": "stream",
     "text": [
      "Predicted Genre: ['Nonfiction']\n"
     ]
    }
   ],
   "source": [
    "new_synopsis = synopsis_17\n",
    "\n",
    "# Preprocess the new synopsis\n",
    "new_synopsis = lowercase(new_synopsis)\n",
    "new_synopsis = removepunc(new_synopsis)\n",
    "new_synopsis = remove_sw(new_synopsis)\n",
    "new_synopsis = stem_text(new_synopsis)\n",
    "\n",
    "# Vectorize the new synopsis using the pre-trained TF-IDF vectorizer\n",
    "new_synopsis_vectorized = tfidf_vectorizer.transform([new_synopsis])\n",
    "\n",
    "# Make predictions using the pre-trained RandomForestClassifier model\n",
    "predicted_genre = rf_classifier.predict(new_synopsis_vectorized)\n",
    "\n",
    "# Print the predicted genre\n",
    "print(\"Predicted Genre:\", predicted_genre)\n"
   ]
  },
  {
   "cell_type": "code",
   "execution_count": 134,
   "id": "28883087",
   "metadata": {},
   "outputs": [],
   "source": [
    "#book_18 = The Other Boleyn Girl - Philippa Gregory - Historical\n",
    "\n",
    "synopsis_18 ='''When Mary Boleyn comes to court as an innocent girl of fourteen, she catches the eye of Henry VIII. \n",
    "Dazzled, Mary falls in love with both her golden prince and her growing role as unofficial queen. However, she soon \n",
    "realises just how much she is a pawn in her family's ambitious plots as the king's interest begins to wane and she is \n",
    "forced to step aside for her best friend and rival: her sister, Anne. Then Mary knows that she must defy her family \n",
    "and her king and take fate into her own hands.\n",
    "\n",
    "A rich and compelling novel of love, sex, ambition, and intrigue, The Other Boleyn Girl introduces a woman of extraordinary\n",
    "determination and desire who lived at the heart of the most exciting and glamourous court in Europe and survived by \n",
    "following her heart.'''"
   ]
  },
  {
   "cell_type": "code",
   "execution_count": 135,
   "id": "d575a1df",
   "metadata": {},
   "outputs": [
    {
     "name": "stdout",
     "output_type": "stream",
     "text": [
      "Predicted Genre: ['Historical']\n"
     ]
    }
   ],
   "source": [
    "new_synopsis = synopsis_18\n",
    "\n",
    "# Preprocess the new synopsis\n",
    "new_synopsis = lowercase(new_synopsis)\n",
    "new_synopsis = removepunc(new_synopsis)\n",
    "new_synopsis = remove_sw(new_synopsis)\n",
    "new_synopsis = stem_text(new_synopsis)\n",
    "\n",
    "# Vectorize the new synopsis using the pre-trained TF-IDF vectorizer\n",
    "new_synopsis_vectorized = tfidf_vectorizer.transform([new_synopsis])\n",
    "\n",
    "# Make predictions using the pre-trained RandomForestClassifier model\n",
    "predicted_genre = rf_classifier.predict(new_synopsis_vectorized)\n",
    "\n",
    "# Print the predicted genre\n",
    "print(\"Predicted Genre:\", predicted_genre)\n"
   ]
  },
  {
   "cell_type": "code",
   "execution_count": 142,
   "id": "39aa6d35",
   "metadata": {},
   "outputs": [],
   "source": [
    "#book_19 = Eye of the Needle - Ken Follett - Fiction\n",
    "\n",
    "synopsis_19 = '''One enemy spy knows the secret to the Allies' greatest deception, a brilliant aristocrat and ruthless \n",
    "assassin -- code name: \"The Needle\" -- who holds the key to ultimate Nazi victory.\n",
    "\n",
    "Only one person stands in his way: a lonely Englishwoman on an isolated island, who is beginning to love the killer who \n",
    "has mysteriously entered her life.\n",
    "\n",
    "All will come to a terrifying conclusion in Ken Follett's unsurpassed and unforgettable masterwork of suspense, intrigue,\n",
    "and the dangerous machinations of the human heart.'''"
   ]
  },
  {
   "cell_type": "code",
   "execution_count": 143,
   "id": "a758e6f1",
   "metadata": {},
   "outputs": [
    {
     "name": "stdout",
     "output_type": "stream",
     "text": [
      "Predicted Genre: ['Fiction']\n"
     ]
    }
   ],
   "source": [
    "new_synopsis = synopsis_19\n",
    "\n",
    "# Preprocess the new synopsis\n",
    "new_synopsis = lowercase(new_synopsis)\n",
    "new_synopsis = removepunc(new_synopsis)\n",
    "new_synopsis = remove_sw(new_synopsis)\n",
    "new_synopsis = stem_text(new_synopsis)\n",
    "\n",
    "# Vectorize the new synopsis using the pre-trained TF-IDF vectorizer\n",
    "new_synopsis_vectorized = tfidf_vectorizer.transform([new_synopsis])\n",
    "\n",
    "# Make predictions using the pre-trained RandomForestClassifier model\n",
    "predicted_genre = rf_classifier.predict(new_synopsis_vectorized)\n",
    "\n",
    "# Print the predicted genre\n",
    "print(\"Predicted Genre:\", predicted_genre)\n"
   ]
  },
  {
   "cell_type": "code",
   "execution_count": 146,
   "id": "5940bacb",
   "metadata": {},
   "outputs": [],
   "source": [
    "#book_20 = A Monstrous Regiment of Women - Laurie R. King - Mystery\n",
    "\n",
    "synopsis_20 = '''A Monstrous Regiment of Women continues Mary Russell's adventures as a worthy student of the famous \n",
    "detective Sherlock Holmes and as an ever more skilled sleuth in her own right. Looking for respite in London after a \n",
    "stupefying visit from relatives, Mary encounters a friend from Oxford. The young woman introduces Mary to her current \n",
    "enthusiasm, a strange and enigmatic woman named Margery Childe, who leads something called \"The New Temple of God.\" \n",
    "It seems to be a charismatic sect involved in the post-World War I suffrage movement, with a feminist slant on Christianity.\n",
    "Mary is curious about the woman, and intrigued. Is the New Temple a front for something more sinister? When a series of \n",
    "murders claims members of the movement's wealthy young female volunteers and principal contributors, Mary, with Holmes \n",
    "in the background, begins to investigate. Things become more desperate than either of them expected as Mary's search \n",
    "plunges her into the worst danger she has yet faced.'''"
   ]
  },
  {
   "cell_type": "code",
   "execution_count": 147,
   "id": "02478a6a",
   "metadata": {},
   "outputs": [
    {
     "name": "stdout",
     "output_type": "stream",
     "text": [
      "Predicted Genre: ['Mystery/Thriller']\n"
     ]
    }
   ],
   "source": [
    "new_synopsis = synopsis_20\n",
    "\n",
    "# Preprocess the new synopsis\n",
    "new_synopsis = lowercase(new_synopsis)\n",
    "new_synopsis = removepunc(new_synopsis)\n",
    "new_synopsis = remove_sw(new_synopsis)\n",
    "new_synopsis = stem_text(new_synopsis)\n",
    "\n",
    "# Vectorize the new synopsis using the pre-trained TF-IDF vectorizer\n",
    "new_synopsis_vectorized = tfidf_vectorizer.transform([new_synopsis])\n",
    "\n",
    "# Make predictions using the pre-trained RandomForestClassifier model\n",
    "predicted_genre = rf_classifier.predict(new_synopsis_vectorized)\n",
    "\n",
    "# Print the predicted genre\n",
    "print(\"Predicted Genre:\", predicted_genre)\n"
   ]
  },
  {
   "cell_type": "markdown",
   "id": "654c81a1",
   "metadata": {},
   "source": [
    "## Conclusion:\n",
    "\n",
    "In this notebook, we developed a machine learning model to predict book genres based on their synopses. Using a Random Forest Classifier and TF-IDF vectorization, we achieved an accuracy of aprox. 51%. The model demonstrated effectiveness by correctly predicting 19 out of 20 book genres, indicating its potential utility in assisting with genre classification tasks in the literary domain. Further improvements could involve exploring different text preprocessing techniques, adjusting model parameters, or experimenting with alternative algorithms to enhance prediction performance."
   ]
  },
  {
   "cell_type": "code",
   "execution_count": null,
   "id": "84170b8d",
   "metadata": {},
   "outputs": [],
   "source": []
  }
 ],
 "metadata": {
  "kernelspec": {
   "display_name": "Python 3 (ipykernel)",
   "language": "python",
   "name": "python3"
  },
  "language_info": {
   "codemirror_mode": {
    "name": "ipython",
    "version": 3
   },
   "file_extension": ".py",
   "mimetype": "text/x-python",
   "name": "python",
   "nbconvert_exporter": "python",
   "pygments_lexer": "ipython3",
   "version": "3.11.5"
  }
 },
 "nbformat": 4,
 "nbformat_minor": 5
}
