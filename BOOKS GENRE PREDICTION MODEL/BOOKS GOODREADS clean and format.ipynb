{
 "cells": [
  {
   "cell_type": "markdown",
   "id": "6fac9e6e",
   "metadata": {},
   "source": [
    "# BOOKS GOODREADS clean and format"
   ]
  },
  {
   "cell_type": "markdown",
   "id": "4a3d25c8",
   "metadata": {},
   "source": [
    "\n",
    "###  -  After retrieving details from the scraped webpage, the subsequent step involved cleaning and formatting the acquired data. This process entailed refining the dataset to ensure consistency, accuracy, and uniformity in its structure and content. Cleaning procedures typically involved handling missing or erroneous values, standardizing data formats, and removing any inconsistencies or redundancies.\n",
    "\n",
    "###  -  Formatting the data was essential to enhance its readability, usability, and interpretability. This step often included organizing the dataset into logical sections, renaming columns for clarity, and standardizing values or units where necessary. Additionally, data formatting aimed to facilitate seamless analysis and visualization by adhering to best practices and conventions.\n",
    "\n",
    "###  -  By cleaning and formatting the dataset, I ensured that the information gleaned from the scraped web page was refined and optimized for subsequent analysis, interpretation, and presentation."
   ]
  },
  {
   "cell_type": "code",
   "execution_count": 57,
   "id": "8b95146e",
   "metadata": {},
   "outputs": [],
   "source": [
    "# Imort Libraries\n",
    "\n",
    "import pandas as pd"
   ]
  },
  {
   "cell_type": "code",
   "execution_count": 58,
   "id": "f6305035",
   "metadata": {
    "scrolled": true
   },
   "outputs": [
    {
     "data": {
      "text/html": [
       "<div>\n",
       "<style scoped>\n",
       "    .dataframe tbody tr th:only-of-type {\n",
       "        vertical-align: middle;\n",
       "    }\n",
       "\n",
       "    .dataframe tbody tr th {\n",
       "        vertical-align: top;\n",
       "    }\n",
       "\n",
       "    .dataframe thead th {\n",
       "        text-align: right;\n",
       "    }\n",
       "</style>\n",
       "<table border=\"1\" class=\"dataframe\">\n",
       "  <thead>\n",
       "    <tr style=\"text-align: right;\">\n",
       "      <th></th>\n",
       "      <th>title</th>\n",
       "      <th>author</th>\n",
       "      <th>version_price</th>\n",
       "      <th>stars</th>\n",
       "      <th>ratings</th>\n",
       "      <th>reviews</th>\n",
       "      <th>sinopsis</th>\n",
       "      <th>genre</th>\n",
       "      <th>num_pages</th>\n",
       "      <th>published</th>\n",
       "      <th>num_books</th>\n",
       "    </tr>\n",
       "  </thead>\n",
       "  <tbody>\n",
       "    <tr>\n",
       "      <th>0</th>\n",
       "      <td>The Hunger Games</td>\n",
       "      <td>Suzanne Collins</td>\n",
       "      <td>Kindle Unlimited $0.00</td>\n",
       "      <td>4.34</td>\n",
       "      <td>8,601,389 ratings</td>\n",
       "      <td>216,773 reviews</td>\n",
       "      <td>Could you survive on your own in the wild, wit...</td>\n",
       "      <td>Young Adult</td>\n",
       "      <td>374 pages, Hardcover</td>\n",
       "      <td>First published September 14, 2008</td>\n",
       "      <td>72 books99.7k followers</td>\n",
       "    </tr>\n",
       "    <tr>\n",
       "      <th>1</th>\n",
       "      <td>Harry Potter and the Order of the Phoenix</td>\n",
       "      <td>J.K. Rowling</td>\n",
       "      <td>Kindle Unlimited $0.00</td>\n",
       "      <td>4.50</td>\n",
       "      <td>3,359,608 ratings</td>\n",
       "      <td>62,879 reviews</td>\n",
       "      <td>Harry Potter is about to start his fifth year ...</td>\n",
       "      <td>Young Adult</td>\n",
       "      <td>912 pages, Paperback</td>\n",
       "      <td>First published June 21, 2003</td>\n",
       "      <td>535 books225k followers</td>\n",
       "    </tr>\n",
       "    <tr>\n",
       "      <th>2</th>\n",
       "      <td>Pride and Prejudice</td>\n",
       "      <td>Jane Austen</td>\n",
       "      <td>Kindle $2.99</td>\n",
       "      <td>4.29</td>\n",
       "      <td>4,238,613 ratings</td>\n",
       "      <td>113,179 reviews</td>\n",
       "      <td>Since its immediate success in 1813, Pride and...</td>\n",
       "      <td>Classics</td>\n",
       "      <td>279 pages, Paperback</td>\n",
       "      <td>First published January 28, 1813</td>\n",
       "      <td>4,124 books66.3k followers</td>\n",
       "    </tr>\n",
       "    <tr>\n",
       "      <th>3</th>\n",
       "      <td>To Kill a Mockingbird</td>\n",
       "      <td>Harper Lee</td>\n",
       "      <td>Kindle $13.99</td>\n",
       "      <td>4.26</td>\n",
       "      <td>6,079,471 ratings</td>\n",
       "      <td>116,454 reviews</td>\n",
       "      <td>The unforgettable novel of a childhood in a sl...</td>\n",
       "      <td>Classics</td>\n",
       "      <td>323 pages, Paperback</td>\n",
       "      <td>First published July 11, 1960</td>\n",
       "      <td>70 books13.5k followers</td>\n",
       "    </tr>\n",
       "    <tr>\n",
       "      <th>4</th>\n",
       "      <td>The Book Thief</td>\n",
       "      <td>Markus Zusak</td>\n",
       "      <td>Kindle $10.99</td>\n",
       "      <td>4.39</td>\n",
       "      <td>2,538,383 ratings</td>\n",
       "      <td>143,787 reviews</td>\n",
       "      <td>Librarian's note: An alternate cover edition c...</td>\n",
       "      <td>Historical Fiction</td>\n",
       "      <td>592 pages, Hardcover</td>\n",
       "      <td>First published September 1, 2005</td>\n",
       "      <td>23 books39.2k followers</td>\n",
       "    </tr>\n",
       "  </tbody>\n",
       "</table>\n",
       "</div>"
      ],
      "text/plain": [
       "                                       title           author  \\\n",
       "0                           The Hunger Games  Suzanne Collins   \n",
       "1  Harry Potter and the Order of the Phoenix     J.K. Rowling   \n",
       "2                        Pride and Prejudice      Jane Austen   \n",
       "3                      To Kill a Mockingbird       Harper Lee   \n",
       "4                             The Book Thief     Markus Zusak   \n",
       "\n",
       "            version_price  stars            ratings          reviews  \\\n",
       "0  Kindle Unlimited $0.00   4.34  8,601,389 ratings  216,773 reviews   \n",
       "1  Kindle Unlimited $0.00   4.50  3,359,608 ratings   62,879 reviews   \n",
       "2            Kindle $2.99   4.29  4,238,613 ratings  113,179 reviews   \n",
       "3           Kindle $13.99   4.26  6,079,471 ratings  116,454 reviews   \n",
       "4           Kindle $10.99   4.39  2,538,383 ratings  143,787 reviews   \n",
       "\n",
       "                                            sinopsis               genre  \\\n",
       "0  Could you survive on your own in the wild, wit...         Young Adult   \n",
       "1  Harry Potter is about to start his fifth year ...         Young Adult   \n",
       "2  Since its immediate success in 1813, Pride and...            Classics   \n",
       "3  The unforgettable novel of a childhood in a sl...            Classics   \n",
       "4  Librarian's note: An alternate cover edition c...  Historical Fiction   \n",
       "\n",
       "              num_pages                           published  \\\n",
       "0  374 pages, Hardcover  First published September 14, 2008   \n",
       "1  912 pages, Paperback       First published June 21, 2003   \n",
       "2  279 pages, Paperback    First published January 28, 1813   \n",
       "3  323 pages, Paperback       First published July 11, 1960   \n",
       "4  592 pages, Hardcover   First published September 1, 2005   \n",
       "\n",
       "                    num_books  \n",
       "0     72 books99.7k followers  \n",
       "1     535 books225k followers  \n",
       "2  4,124 books66.3k followers  \n",
       "3     70 books13.5k followers  \n",
       "4     23 books39.2k followers  "
      ]
     },
     "execution_count": 58,
     "metadata": {},
     "output_type": "execute_result"
    }
   ],
   "source": [
    "# Load the data\n",
    "\n",
    "books_df = pd.read_csv('books_goodreads.csv')\n",
    "books_df.head()"
   ]
  },
  {
   "cell_type": "code",
   "execution_count": 59,
   "id": "2d8e3ece",
   "metadata": {},
   "outputs": [
    {
     "data": {
      "text/plain": [
       "(7182, 11)"
      ]
     },
     "execution_count": 59,
     "metadata": {},
     "output_type": "execute_result"
    }
   ],
   "source": [
    "books_df.shape"
   ]
  },
  {
   "cell_type": "code",
   "execution_count": 60,
   "id": "a5f7d3cf",
   "metadata": {},
   "outputs": [
    {
     "data": {
      "text/plain": [
       "title            56\n",
       "author           56\n",
       "version_price    61\n",
       "stars            56\n",
       "ratings          56\n",
       "reviews          56\n",
       "sinopsis         65\n",
       "genre            60\n",
       "num_pages        59\n",
       "published        65\n",
       "num_books        62\n",
       "dtype: int64"
      ]
     },
     "execution_count": 60,
     "metadata": {},
     "output_type": "execute_result"
    }
   ],
   "source": [
    "# Check for NaN values\n",
    "\n",
    "books_df.isnull().sum()"
   ]
  },
  {
   "cell_type": "code",
   "execution_count": 61,
   "id": "7edccac3",
   "metadata": {},
   "outputs": [],
   "source": [
    "# Drop the NaN values\n",
    "\n",
    "books_df.dropna(inplace = True)"
   ]
  },
  {
   "cell_type": "code",
   "execution_count": 62,
   "id": "c7125297",
   "metadata": {},
   "outputs": [
    {
     "data": {
      "text/plain": [
       "title            0\n",
       "author           0\n",
       "version_price    0\n",
       "stars            0\n",
       "ratings          0\n",
       "reviews          0\n",
       "sinopsis         0\n",
       "genre            0\n",
       "num_pages        0\n",
       "published        0\n",
       "num_books        0\n",
       "dtype: int64"
      ]
     },
     "execution_count": 62,
     "metadata": {},
     "output_type": "execute_result"
    }
   ],
   "source": [
    "# Check for NaN values again\n",
    "\n",
    "books_df.isnull().sum()"
   ]
  },
  {
   "cell_type": "code",
   "execution_count": 63,
   "id": "13a16e4e",
   "metadata": {},
   "outputs": [
    {
     "data": {
      "text/plain": [
       "64"
      ]
     },
     "execution_count": 63,
     "metadata": {},
     "output_type": "execute_result"
    }
   ],
   "source": [
    "# Check for duplicates\n",
    "\n",
    "books_df.duplicated().sum()"
   ]
  },
  {
   "cell_type": "code",
   "execution_count": 64,
   "id": "6a37fe79",
   "metadata": {},
   "outputs": [],
   "source": [
    "# Drop duplicates\n",
    "\n",
    "books_df.drop_duplicates(inplace=True)"
   ]
  },
  {
   "cell_type": "code",
   "execution_count": 66,
   "id": "f9463aae",
   "metadata": {},
   "outputs": [
    {
     "data": {
      "text/plain": [
       "0    Suzanne Collins\n",
       "1       J.K. Rowling\n",
       "2        Jane Austen\n",
       "3         Harper Lee\n",
       "4       Markus Zusak\n",
       "Name: author, dtype: object"
      ]
     },
     "execution_count": 66,
     "metadata": {},
     "output_type": "execute_result"
    }
   ],
   "source": [
    "# Check author column\n",
    "\n",
    "books_df.author.head()"
   ]
  },
  {
   "cell_type": "code",
   "execution_count": 67,
   "id": "0a3de27f",
   "metadata": {},
   "outputs": [
    {
     "data": {
      "text/html": [
       "<div>\n",
       "<style scoped>\n",
       "    .dataframe tbody tr th:only-of-type {\n",
       "        vertical-align: middle;\n",
       "    }\n",
       "\n",
       "    .dataframe tbody tr th {\n",
       "        vertical-align: top;\n",
       "    }\n",
       "\n",
       "    .dataframe thead th {\n",
       "        text-align: right;\n",
       "    }\n",
       "</style>\n",
       "<table border=\"1\" class=\"dataframe\">\n",
       "  <thead>\n",
       "    <tr style=\"text-align: right;\">\n",
       "      <th></th>\n",
       "      <th>title</th>\n",
       "      <th>author</th>\n",
       "      <th>version_price</th>\n",
       "      <th>stars</th>\n",
       "      <th>ratings</th>\n",
       "      <th>reviews</th>\n",
       "      <th>sinopsis</th>\n",
       "      <th>genre</th>\n",
       "      <th>num_pages</th>\n",
       "      <th>published</th>\n",
       "      <th>num_books</th>\n",
       "    </tr>\n",
       "  </thead>\n",
       "  <tbody>\n",
       "    <tr>\n",
       "      <th>0</th>\n",
       "      <td>The Hunger Games</td>\n",
       "      <td>SUZANNE COLLINS</td>\n",
       "      <td>Kindle Unlimited $0.00</td>\n",
       "      <td>4.34</td>\n",
       "      <td>8,601,389 ratings</td>\n",
       "      <td>216,773 reviews</td>\n",
       "      <td>Could you survive on your own in the wild, wit...</td>\n",
       "      <td>Young Adult</td>\n",
       "      <td>374 pages, Hardcover</td>\n",
       "      <td>First published September 14, 2008</td>\n",
       "      <td>72 books99.7k followers</td>\n",
       "    </tr>\n",
       "  </tbody>\n",
       "</table>\n",
       "</div>"
      ],
      "text/plain": [
       "              title           author           version_price  stars  \\\n",
       "0  The Hunger Games  SUZANNE COLLINS  Kindle Unlimited $0.00   4.34   \n",
       "\n",
       "             ratings          reviews  \\\n",
       "0  8,601,389 ratings  216,773 reviews   \n",
       "\n",
       "                                            sinopsis        genre  \\\n",
       "0  Could you survive on your own in the wild, wit...  Young Adult   \n",
       "\n",
       "              num_pages                           published  \\\n",
       "0  374 pages, Hardcover  First published September 14, 2008   \n",
       "\n",
       "                 num_books  \n",
       "0  72 books99.7k followers  "
      ]
     },
     "execution_count": 67,
     "metadata": {},
     "output_type": "execute_result"
    }
   ],
   "source": [
    "# Change the authors name to upper\n",
    "\n",
    "books_df['author'] = books_df['author'].str.upper()\n",
    "books_df.head(1)"
   ]
  },
  {
   "cell_type": "code",
   "execution_count": 68,
   "id": "92057e21",
   "metadata": {},
   "outputs": [
    {
     "data": {
      "text/plain": [
       "0    Kindle Unlimited $0.00\n",
       "1    Kindle Unlimited $0.00\n",
       "2              Kindle $2.99\n",
       "3             Kindle $13.99\n",
       "4             Kindle $10.99\n",
       "Name: version_price, dtype: object"
      ]
     },
     "execution_count": 68,
     "metadata": {},
     "output_type": "execute_result"
    }
   ],
   "source": [
    "# Check the column version_price\n",
    "\n",
    "books_df.version_price.head()"
   ]
  },
  {
   "cell_type": "code",
   "execution_count": 69,
   "id": "1297c7a3",
   "metadata": {},
   "outputs": [
    {
     "data": {
      "text/html": [
       "<div>\n",
       "<style scoped>\n",
       "    .dataframe tbody tr th:only-of-type {\n",
       "        vertical-align: middle;\n",
       "    }\n",
       "\n",
       "    .dataframe tbody tr th {\n",
       "        vertical-align: top;\n",
       "    }\n",
       "\n",
       "    .dataframe thead th {\n",
       "        text-align: right;\n",
       "    }\n",
       "</style>\n",
       "<table border=\"1\" class=\"dataframe\">\n",
       "  <thead>\n",
       "    <tr style=\"text-align: right;\">\n",
       "      <th></th>\n",
       "      <th>title</th>\n",
       "      <th>author</th>\n",
       "      <th>stars</th>\n",
       "      <th>ratings</th>\n",
       "      <th>reviews</th>\n",
       "      <th>sinopsis</th>\n",
       "      <th>genre</th>\n",
       "      <th>num_pages</th>\n",
       "      <th>published</th>\n",
       "      <th>num_books</th>\n",
       "      <th>version</th>\n",
       "      <th>price</th>\n",
       "    </tr>\n",
       "  </thead>\n",
       "  <tbody>\n",
       "    <tr>\n",
       "      <th>0</th>\n",
       "      <td>The Hunger Games</td>\n",
       "      <td>SUZANNE COLLINS</td>\n",
       "      <td>4.34</td>\n",
       "      <td>8,601,389 ratings</td>\n",
       "      <td>216,773 reviews</td>\n",
       "      <td>Could you survive on your own in the wild, wit...</td>\n",
       "      <td>Young Adult</td>\n",
       "      <td>374 pages, Hardcover</td>\n",
       "      <td>First published September 14, 2008</td>\n",
       "      <td>72 books99.7k followers</td>\n",
       "      <td>Kindle</td>\n",
       "      <td>Unlimited $0.00</td>\n",
       "    </tr>\n",
       "  </tbody>\n",
       "</table>\n",
       "</div>"
      ],
      "text/plain": [
       "              title           author  stars            ratings  \\\n",
       "0  The Hunger Games  SUZANNE COLLINS   4.34  8,601,389 ratings   \n",
       "\n",
       "           reviews                                           sinopsis  \\\n",
       "0  216,773 reviews  Could you survive on your own in the wild, wit...   \n",
       "\n",
       "         genre             num_pages                           published  \\\n",
       "0  Young Adult  374 pages, Hardcover  First published September 14, 2008   \n",
       "\n",
       "                 num_books version            price  \n",
       "0  72 books99.7k followers  Kindle  Unlimited $0.00  "
      ]
     },
     "execution_count": 69,
     "metadata": {},
     "output_type": "execute_result"
    }
   ],
   "source": [
    "# Split the version_price column into version column and price column\n",
    "\n",
    "split_data = books_df['version_price'].str.split(' ', n=1, expand=True)\n",
    "books_df['version'] = split_data[0]\n",
    "books_df['price'] = split_data[1]\n",
    "\n",
    "# Drop the original column\n",
    "books_df.drop(columns=['version_price'], inplace=True)\n",
    "\n",
    "books_df.head(1)"
   ]
  },
  {
   "cell_type": "code",
   "execution_count": 70,
   "id": "9e9159be",
   "metadata": {},
   "outputs": [
    {
     "data": {
      "text/plain": [
       "0    Unlimited $0.00\n",
       "1    Unlimited $0.00\n",
       "2              $2.99\n",
       "3             $13.99\n",
       "4             $10.99\n",
       "Name: price, dtype: object"
      ]
     },
     "execution_count": 70,
     "metadata": {},
     "output_type": "execute_result"
    }
   ],
   "source": [
    "# Check the column price\n",
    "\n",
    "books_df.price.head()"
   ]
  },
  {
   "cell_type": "code",
   "execution_count": 71,
   "id": "06e2d403",
   "metadata": {},
   "outputs": [],
   "source": [
    "# Extract the price\n",
    "\n",
    "books_df['price_numeric'] = books_df['price'].str.extract(r'\\$([\\d.]+)').fillna(0).astype(float)\n",
    "books_df.drop(columns=['price'], inplace=True)\n",
    "books_df['price'] = books_df['price_numeric']\n",
    "books_df.drop(columns=['price_numeric'], inplace=True)"
   ]
  },
  {
   "cell_type": "code",
   "execution_count": 72,
   "id": "7d576cb5",
   "metadata": {},
   "outputs": [
    {
     "data": {
      "text/html": [
       "<div>\n",
       "<style scoped>\n",
       "    .dataframe tbody tr th:only-of-type {\n",
       "        vertical-align: middle;\n",
       "    }\n",
       "\n",
       "    .dataframe tbody tr th {\n",
       "        vertical-align: top;\n",
       "    }\n",
       "\n",
       "    .dataframe thead th {\n",
       "        text-align: right;\n",
       "    }\n",
       "</style>\n",
       "<table border=\"1\" class=\"dataframe\">\n",
       "  <thead>\n",
       "    <tr style=\"text-align: right;\">\n",
       "      <th></th>\n",
       "      <th>title</th>\n",
       "      <th>author</th>\n",
       "      <th>stars</th>\n",
       "      <th>ratings</th>\n",
       "      <th>reviews</th>\n",
       "      <th>sinopsis</th>\n",
       "      <th>genre</th>\n",
       "      <th>num_pages</th>\n",
       "      <th>published</th>\n",
       "      <th>num_books</th>\n",
       "      <th>version</th>\n",
       "      <th>price</th>\n",
       "    </tr>\n",
       "  </thead>\n",
       "  <tbody>\n",
       "    <tr>\n",
       "      <th>0</th>\n",
       "      <td>The Hunger Games</td>\n",
       "      <td>SUZANNE COLLINS</td>\n",
       "      <td>4.34</td>\n",
       "      <td>8,601,389 ratings</td>\n",
       "      <td>216,773 reviews</td>\n",
       "      <td>Could you survive on your own in the wild, wit...</td>\n",
       "      <td>Young Adult</td>\n",
       "      <td>374 pages, Hardcover</td>\n",
       "      <td>First published September 14, 2008</td>\n",
       "      <td>72 books99.7k followers</td>\n",
       "      <td>Kindle Unlimited</td>\n",
       "      <td>0.0</td>\n",
       "    </tr>\n",
       "  </tbody>\n",
       "</table>\n",
       "</div>"
      ],
      "text/plain": [
       "              title           author  stars            ratings  \\\n",
       "0  The Hunger Games  SUZANNE COLLINS   4.34  8,601,389 ratings   \n",
       "\n",
       "           reviews                                           sinopsis  \\\n",
       "0  216,773 reviews  Could you survive on your own in the wild, wit...   \n",
       "\n",
       "         genre             num_pages                           published  \\\n",
       "0  Young Adult  374 pages, Hardcover  First published September 14, 2008   \n",
       "\n",
       "                 num_books           version  price  \n",
       "0  72 books99.7k followers  Kindle Unlimited    0.0  "
      ]
     },
     "execution_count": 72,
     "metadata": {},
     "output_type": "execute_result"
    }
   ],
   "source": [
    "# Books that have price = 0 are version Kindle Unlimited. We will update the column version\n",
    "\n",
    "books_df.loc[books_df['price'] == 0, 'version'] = 'Kindle Unlimited'\n",
    "books_df.head(1)"
   ]
  },
  {
   "cell_type": "code",
   "execution_count": 73,
   "id": "95391e42",
   "metadata": {},
   "outputs": [
    {
     "data": {
      "text/plain": [
       "0    8,601,389 ratings\n",
       "1    3,359,608 ratings\n",
       "2    4,238,613 ratings\n",
       "3    6,079,471 ratings\n",
       "4    2,538,383 ratings\n",
       "Name: ratings, dtype: object"
      ]
     },
     "execution_count": 73,
     "metadata": {},
     "output_type": "execute_result"
    }
   ],
   "source": [
    "# Check the ratings column\n",
    "\n",
    "books_df.ratings.head()"
   ]
  },
  {
   "cell_type": "code",
   "execution_count": 74,
   "id": "f06979e2",
   "metadata": {},
   "outputs": [],
   "source": [
    "# Convert the ratings column into numeric\n",
    "\n",
    "books_df['ratings'] = books_df['ratings'].str.replace(',', '').str.replace(' ratings', '')\n",
    "books_df['ratings'] = books_df['ratings'].str.replace(',', '').str.replace(' rating', '')\n",
    "\n",
    "\n",
    "books_df['ratings'] = pd.to_numeric(books_df['ratings'])"
   ]
  },
  {
   "cell_type": "code",
   "execution_count": 75,
   "id": "ba889df7",
   "metadata": {},
   "outputs": [
    {
     "data": {
      "text/plain": [
       "0    216,773 reviews\n",
       "1     62,879 reviews\n",
       "2    113,179 reviews\n",
       "3    116,454 reviews\n",
       "4    143,787 reviews\n",
       "Name: reviews, dtype: object"
      ]
     },
     "execution_count": 75,
     "metadata": {},
     "output_type": "execute_result"
    }
   ],
   "source": [
    "# Check the reviews column\n",
    "\n",
    "books_df.reviews.head()"
   ]
  },
  {
   "cell_type": "code",
   "execution_count": 76,
   "id": "9133ebd2",
   "metadata": {},
   "outputs": [
    {
     "data": {
      "text/html": [
       "<div>\n",
       "<style scoped>\n",
       "    .dataframe tbody tr th:only-of-type {\n",
       "        vertical-align: middle;\n",
       "    }\n",
       "\n",
       "    .dataframe tbody tr th {\n",
       "        vertical-align: top;\n",
       "    }\n",
       "\n",
       "    .dataframe thead th {\n",
       "        text-align: right;\n",
       "    }\n",
       "</style>\n",
       "<table border=\"1\" class=\"dataframe\">\n",
       "  <thead>\n",
       "    <tr style=\"text-align: right;\">\n",
       "      <th></th>\n",
       "      <th>title</th>\n",
       "      <th>author</th>\n",
       "      <th>stars</th>\n",
       "      <th>ratings</th>\n",
       "      <th>reviews</th>\n",
       "      <th>sinopsis</th>\n",
       "      <th>genre</th>\n",
       "      <th>num_pages</th>\n",
       "      <th>published</th>\n",
       "      <th>num_books</th>\n",
       "      <th>version</th>\n",
       "      <th>price</th>\n",
       "    </tr>\n",
       "  </thead>\n",
       "  <tbody>\n",
       "    <tr>\n",
       "      <th>0</th>\n",
       "      <td>The Hunger Games</td>\n",
       "      <td>SUZANNE COLLINS</td>\n",
       "      <td>4.34</td>\n",
       "      <td>8601389</td>\n",
       "      <td>216773</td>\n",
       "      <td>Could you survive on your own in the wild, wit...</td>\n",
       "      <td>Young Adult</td>\n",
       "      <td>374 pages, Hardcover</td>\n",
       "      <td>First published September 14, 2008</td>\n",
       "      <td>72 books99.7k followers</td>\n",
       "      <td>Kindle Unlimited</td>\n",
       "      <td>0.0</td>\n",
       "    </tr>\n",
       "  </tbody>\n",
       "</table>\n",
       "</div>"
      ],
      "text/plain": [
       "              title           author  stars  ratings  reviews  \\\n",
       "0  The Hunger Games  SUZANNE COLLINS   4.34  8601389   216773   \n",
       "\n",
       "                                            sinopsis        genre  \\\n",
       "0  Could you survive on your own in the wild, wit...  Young Adult   \n",
       "\n",
       "              num_pages                           published  \\\n",
       "0  374 pages, Hardcover  First published September 14, 2008   \n",
       "\n",
       "                 num_books           version  price  \n",
       "0  72 books99.7k followers  Kindle Unlimited    0.0  "
      ]
     },
     "execution_count": 76,
     "metadata": {},
     "output_type": "execute_result"
    }
   ],
   "source": [
    "# Convert the reviews column into numeric\n",
    "\n",
    "books_df['reviews'] = books_df['reviews'].str.replace(',', '').str.replace(' reviews', '')\n",
    "books_df['reviews'] = books_df['reviews'].str.replace(',', '').str.replace(' review', '')\n",
    "\n",
    "\n",
    "books_df['reviews'] = pd.to_numeric(books_df['reviews'])\n",
    "books_df.head(1)"
   ]
  },
  {
   "cell_type": "code",
   "execution_count": 77,
   "id": "5cf3d022",
   "metadata": {},
   "outputs": [],
   "source": [
    "# Change the name of the column sinopsis to synopsis\n",
    "\n",
    "books_df.rename(columns={'sinopsis': 'synopsis'}, inplace=True)"
   ]
  },
  {
   "cell_type": "code",
   "execution_count": 78,
   "id": "0dbe01fb",
   "metadata": {},
   "outputs": [
    {
     "data": {
      "text/plain": [
       "\"Could you survive on your own in the wild, with every one out to make sure you don't live to see the morning?\\n\\nIn the ruins of a place once known as North America lies the nation of Panem, a shining Capitol surrounded by twelve outlying districts. The Capitol is harsh and cruel and keeps the districts in line by forcing them all to send one boy and one girl between the ages of twelve and eighteen to participate in the annual Hunger Games, a fight to the death on live TV.\\n\\nSixteen-year-old Katniss Everdeen, who lives alone with her mother and younger sister, regards it as a death sentence when she steps forward to take her sister's place in the Games. But Katniss has been close to dead before—and survival, for her, is second nature. Without really meaning to, she becomes a contender. But if she is to win, she will have to start making choices that weight survival against humanity and life against love.\""
      ]
     },
     "execution_count": 78,
     "metadata": {},
     "output_type": "execute_result"
    }
   ],
   "source": [
    "# Check the synopsis column\n",
    "\n",
    "books_df.synopsis[0]"
   ]
  },
  {
   "cell_type": "code",
   "execution_count": 79,
   "id": "00e886b5",
   "metadata": {},
   "outputs": [
    {
     "data": {
      "text/plain": [
       "0"
      ]
     },
     "execution_count": 79,
     "metadata": {},
     "output_type": "execute_result"
    }
   ],
   "source": [
    "# Check for NaN values in the genre column\n",
    "\n",
    "books_df.genre.isnull().sum()"
   ]
  },
  {
   "cell_type": "code",
   "execution_count": 80,
   "id": "65a055af",
   "metadata": {},
   "outputs": [
    {
     "data": {
      "text/plain": [
       "array(['Young Adult', 'Classics', 'Historical Fiction', 'Fantasy',\n",
       "       'Childrens', 'Fiction', 'Science Fiction', 'Horror',\n",
       "       'Picture Books', 'Mystery', 'Nonfiction', 'Romance',\n",
       "       'Graphic Novels', 'Thriller', 'Plays', 'Poetry', 'History',\n",
       "       'Comics', 'Travel', 'Philosophy', 'Paranormal', 'Science',\n",
       "       'Christian Fiction', 'Short Stories', 'Paranormal Romance',\n",
       "       'Contemporary', 'Self Help', 'Mythology', 'Christmas', 'Religion',\n",
       "       'Dystopia', 'Published March 24, 2023',\n",
       "       'Autistic Spectrum Disorder', 'Chick Lit', 'Vampires',\n",
       "       'Greek Mythology', 'Africa', 'Christian', 'Urban Fantasy',\n",
       "       'True Crime', 'Memoir', 'Survival', 'Drama',\n",
       "       'Contemporary Romance', 'Realistic Fiction', 'Humor', 'Feminism',\n",
       "       'First published August 1, 2023', 'Spirituality', 'Dark',\n",
       "       'Business', 'LGBT', 'Writing', 'Biography',\n",
       "       'Published November 16, 2021', 'Zombies', 'Published May 30, 2023',\n",
       "       'First published November 20, 2023', 'Published November 29, 2023',\n",
       "       'New Adult', 'Published September 27, 2023',\n",
       "       'Published November 22, 2022', 'Legal Thriller', 'Steampunk',\n",
       "       'Published October 24, 2023', 'Manga',\n",
       "       'Published October 31, 2023', 'Murder Mystery',\n",
       "       'Published August 30, 2021', 'Psychology', 'Novels', 'Love Story',\n",
       "       'Post Apocalyptic', 'Historical Romance',\n",
       "       'Published October 25, 2023', 'Sports Romance', 'Inspirational',\n",
       "       'Parenting', 'First published January 1, 2016', 'World War II',\n",
       "       'Young Adult Romance', 'Time Travel', 'Finance', 'Crime',\n",
       "       'Middle Grade', 'First published September 12, 2013', 'Historical',\n",
       "       'Buddhism', 'Adventure', 'Reverse Harem', 'Islam',\n",
       "       'Published July 25, 2019', 'First published October 1, 2013',\n",
       "       'Angels', 'Witches', 'Amazon', 'Star Wars',\n",
       "       'Published March 1, 2019', 'Productivity',\n",
       "       'First published February 2, 2015', 'Published September 24, 2023',\n",
       "       'Relationships', 'Werewolves', 'Gothic', 'Economics',\n",
       "       'Published September 1, 2023', 'China', 'Health',\n",
       "       'First published March 21, 2022', 'War', 'Published June 24, 2021',\n",
       "       'Art', 'Erotica', 'Politics', 'Turkish Literature',\n",
       "       'Published September 28, 2019', 'Queer',\n",
       "       'Published December 30, 2019', 'Published December 1, 2020',\n",
       "       'Published October 29, 2023', 'Pulp',\n",
       "       'First published January 1, 1981', 'Published November 29, 2019',\n",
       "       'Published February 13, 2023', 'Prayer',\n",
       "       'Published April 21, 2017', 'Published May 8, 2016', 'BDSM',\n",
       "       'Published August 30, 2022', 'Published August 29, 2018',\n",
       "       'Leadership', 'Published September 7, 2022',\n",
       "       'Published September 5, 2016', 'Romantic Suspense', 'Halloween',\n",
       "       'Animals', 'Published June 26, 2017', 'Dark Fantasy', 'Theology',\n",
       "       'Published March 15, 2023', 'M M Romance', 'Education',\n",
       "       'Published February 21, 2019', 'Speculative Fiction', 'Japan',\n",
       "       'Published November 10, 2022', 'Published September 15, 2023',\n",
       "       'Published February 22, 2022', 'First published October 21, 2016',\n",
       "       'Published December 18, 2019', 'Sports',\n",
       "       'Published December 14, 2020', 'Design', 'Published June 12, 2023',\n",
       "       'Published April 18, 1', 'Published February 14, 2017',\n",
       "       'Reference', 'Published March 1, 2021',\n",
       "       'First published April 20, 2014',\n",
       "       'First published August 31, 2017',\n",
       "       'First published October 31, 2017', 'Fan Fiction', 'Music',\n",
       "       'Published October 21, 2022', 'Westerns', 'Catholic', 'France',\n",
       "       'First published November 17, 2012',\n",
       "       'First published June 19, 2014', 'First published January 1, 1923',\n",
       "       'Published June 6, 2016', 'First published October 31, 2018',\n",
       "       'First published November 13, 2012', 'Published May 9, 2020',\n",
       "       'First published December 15, 2011',\n",
       "       'First published January 1, 2014',\n",
       "       'First published March 15, 2023', 'Lds Fiction',\n",
       "       'Published July 26, 2019', 'Published January 18, 2021',\n",
       "       'First published September 3, 2019',\n",
       "       'First published August 5, 2009', 'First published March 20, 2012',\n",
       "       'First published January 1, 1994', 'Bizarro Fiction',\n",
       "       'First published January 1, 1987', 'Published May 23, 2016',\n",
       "       'First published March 7, 2011', 'Published January 22, 2019',\n",
       "       'Gaming', 'Christianity', 'First published May 7, 2019',\n",
       "       'First published June 16, 2010', 'Magical Realism',\n",
       "       'First published August 2, 2021',\n",
       "       'First published February 12, 2015'], dtype=object)"
      ]
     },
     "execution_count": 80,
     "metadata": {},
     "output_type": "execute_result"
    }
   ],
   "source": [
    "# Check the genre column\n",
    "\n",
    "books_df.genre.unique()"
   ]
  },
  {
   "cell_type": "code",
   "execution_count": 82,
   "id": "ca0c49a8",
   "metadata": {},
   "outputs": [
    {
     "data": {
      "text/html": [
       "<div>\n",
       "<style scoped>\n",
       "    .dataframe tbody tr th:only-of-type {\n",
       "        vertical-align: middle;\n",
       "    }\n",
       "\n",
       "    .dataframe tbody tr th {\n",
       "        vertical-align: top;\n",
       "    }\n",
       "\n",
       "    .dataframe thead th {\n",
       "        text-align: right;\n",
       "    }\n",
       "</style>\n",
       "<table border=\"1\" class=\"dataframe\">\n",
       "  <thead>\n",
       "    <tr style=\"text-align: right;\">\n",
       "      <th></th>\n",
       "      <th>title</th>\n",
       "      <th>author</th>\n",
       "      <th>stars</th>\n",
       "      <th>ratings</th>\n",
       "      <th>reviews</th>\n",
       "      <th>synopsis</th>\n",
       "      <th>genre</th>\n",
       "      <th>num_pages</th>\n",
       "      <th>published</th>\n",
       "      <th>num_books</th>\n",
       "      <th>version</th>\n",
       "      <th>price</th>\n",
       "    </tr>\n",
       "  </thead>\n",
       "  <tbody>\n",
       "    <tr>\n",
       "      <th>0</th>\n",
       "      <td>The Hunger Games</td>\n",
       "      <td>SUZANNE COLLINS</td>\n",
       "      <td>4.34</td>\n",
       "      <td>8601389</td>\n",
       "      <td>216773</td>\n",
       "      <td>Could you survive on your own in the wild, wit...</td>\n",
       "      <td>Young Adult</td>\n",
       "      <td>374 pages, Hardcover</td>\n",
       "      <td>First published September 14, 2008</td>\n",
       "      <td>72 books99.7k followers</td>\n",
       "      <td>Kindle Unlimited</td>\n",
       "      <td>0.00</td>\n",
       "    </tr>\n",
       "    <tr>\n",
       "      <th>1</th>\n",
       "      <td>Harry Potter and the Order of the Phoenix</td>\n",
       "      <td>J.K. ROWLING</td>\n",
       "      <td>4.50</td>\n",
       "      <td>3359608</td>\n",
       "      <td>62879</td>\n",
       "      <td>Harry Potter is about to start his fifth year ...</td>\n",
       "      <td>Young Adult</td>\n",
       "      <td>912 pages, Paperback</td>\n",
       "      <td>First published June 21, 2003</td>\n",
       "      <td>535 books225k followers</td>\n",
       "      <td>Kindle Unlimited</td>\n",
       "      <td>0.00</td>\n",
       "    </tr>\n",
       "    <tr>\n",
       "      <th>2</th>\n",
       "      <td>Pride and Prejudice</td>\n",
       "      <td>JANE AUSTEN</td>\n",
       "      <td>4.29</td>\n",
       "      <td>4238613</td>\n",
       "      <td>113179</td>\n",
       "      <td>Since its immediate success in 1813, Pride and...</td>\n",
       "      <td>Classics</td>\n",
       "      <td>279 pages, Paperback</td>\n",
       "      <td>First published January 28, 1813</td>\n",
       "      <td>4,124 books66.3k followers</td>\n",
       "      <td>Kindle</td>\n",
       "      <td>2.99</td>\n",
       "    </tr>\n",
       "    <tr>\n",
       "      <th>3</th>\n",
       "      <td>To Kill a Mockingbird</td>\n",
       "      <td>HARPER LEE</td>\n",
       "      <td>4.26</td>\n",
       "      <td>6079471</td>\n",
       "      <td>116454</td>\n",
       "      <td>The unforgettable novel of a childhood in a sl...</td>\n",
       "      <td>Classics</td>\n",
       "      <td>323 pages, Paperback</td>\n",
       "      <td>First published July 11, 1960</td>\n",
       "      <td>70 books13.5k followers</td>\n",
       "      <td>Kindle</td>\n",
       "      <td>13.99</td>\n",
       "    </tr>\n",
       "    <tr>\n",
       "      <th>4</th>\n",
       "      <td>The Book Thief</td>\n",
       "      <td>MARKUS ZUSAK</td>\n",
       "      <td>4.39</td>\n",
       "      <td>2538383</td>\n",
       "      <td>143787</td>\n",
       "      <td>Librarian's note: An alternate cover edition c...</td>\n",
       "      <td>Historical Fiction</td>\n",
       "      <td>592 pages, Hardcover</td>\n",
       "      <td>First published September 1, 2005</td>\n",
       "      <td>23 books39.2k followers</td>\n",
       "      <td>Kindle</td>\n",
       "      <td>10.99</td>\n",
       "    </tr>\n",
       "  </tbody>\n",
       "</table>\n",
       "</div>"
      ],
      "text/plain": [
       "                                       title           author  stars  ratings  \\\n",
       "0                           The Hunger Games  SUZANNE COLLINS   4.34  8601389   \n",
       "1  Harry Potter and the Order of the Phoenix     J.K. ROWLING   4.50  3359608   \n",
       "2                        Pride and Prejudice      JANE AUSTEN   4.29  4238613   \n",
       "3                      To Kill a Mockingbird       HARPER LEE   4.26  6079471   \n",
       "4                             The Book Thief     MARKUS ZUSAK   4.39  2538383   \n",
       "\n",
       "   reviews                                           synopsis  \\\n",
       "0   216773  Could you survive on your own in the wild, wit...   \n",
       "1    62879  Harry Potter is about to start his fifth year ...   \n",
       "2   113179  Since its immediate success in 1813, Pride and...   \n",
       "3   116454  The unforgettable novel of a childhood in a sl...   \n",
       "4   143787  Librarian's note: An alternate cover edition c...   \n",
       "\n",
       "                genre             num_pages  \\\n",
       "0         Young Adult  374 pages, Hardcover   \n",
       "1         Young Adult  912 pages, Paperback   \n",
       "2            Classics  279 pages, Paperback   \n",
       "3            Classics  323 pages, Paperback   \n",
       "4  Historical Fiction  592 pages, Hardcover   \n",
       "\n",
       "                            published                   num_books  \\\n",
       "0  First published September 14, 2008     72 books99.7k followers   \n",
       "1       First published June 21, 2003     535 books225k followers   \n",
       "2    First published January 28, 1813  4,124 books66.3k followers   \n",
       "3       First published July 11, 1960     70 books13.5k followers   \n",
       "4   First published September 1, 2005     23 books39.2k followers   \n",
       "\n",
       "            version  price  \n",
       "0  Kindle Unlimited   0.00  \n",
       "1  Kindle Unlimited   0.00  \n",
       "2            Kindle   2.99  \n",
       "3            Kindle  13.99  \n",
       "4            Kindle  10.99  "
      ]
     },
     "execution_count": 82,
     "metadata": {},
     "output_type": "execute_result"
    }
   ],
   "source": [
    "# Create a boolean mask to identify rows containing any form of 'Publish' in the 'genre' column\n",
    "\n",
    "mask = books_df['genre'].str.contains(r'Publish', case=False)\n",
    "\n",
    "# Filter the DataFrame to keep rows without any form of 'Publish' in the 'genre' column\n",
    "books_df = books_df[~mask]\n",
    "books_df.head()"
   ]
  },
  {
   "cell_type": "code",
   "execution_count": 83,
   "id": "cc7edda8",
   "metadata": {},
   "outputs": [
    {
     "data": {
      "text/plain": [
       "0"
      ]
     },
     "execution_count": 83,
     "metadata": {},
     "output_type": "execute_result"
    }
   ],
   "source": [
    "# Check for NaN values again\n",
    "\n",
    "books_df.genre.isnull().sum()"
   ]
  },
  {
   "cell_type": "code",
   "execution_count": 84,
   "id": "4d915379",
   "metadata": {},
   "outputs": [
    {
     "data": {
      "text/plain": [
       "array(['Young Adult', 'Classics', 'Historical Fiction', 'Fantasy',\n",
       "       'Childrens', 'Fiction', 'Science Fiction', 'Horror',\n",
       "       'Picture Books', 'Mystery', 'Nonfiction', 'Romance',\n",
       "       'Graphic Novels', 'Thriller', 'Plays', 'Poetry', 'History',\n",
       "       'Comics', 'Travel', 'Philosophy', 'Paranormal', 'Science',\n",
       "       'Christian Fiction', 'Short Stories', 'Paranormal Romance',\n",
       "       'Contemporary', 'Self Help', 'Mythology', 'Christmas', 'Religion',\n",
       "       'Dystopia', 'Autistic Spectrum Disorder', 'Chick Lit', 'Vampires',\n",
       "       'Greek Mythology', 'Africa', 'Christian', 'Urban Fantasy',\n",
       "       'True Crime', 'Memoir', 'Survival', 'Drama',\n",
       "       'Contemporary Romance', 'Realistic Fiction', 'Humor', 'Feminism',\n",
       "       'Spirituality', 'Dark', 'Business', 'LGBT', 'Writing', 'Biography',\n",
       "       'Zombies', 'New Adult', 'Legal Thriller', 'Steampunk', 'Manga',\n",
       "       'Murder Mystery', 'Psychology', 'Novels', 'Love Story',\n",
       "       'Post Apocalyptic', 'Historical Romance', 'Sports Romance',\n",
       "       'Inspirational', 'Parenting', 'World War II',\n",
       "       'Young Adult Romance', 'Time Travel', 'Finance', 'Crime',\n",
       "       'Middle Grade', 'Historical', 'Buddhism', 'Adventure',\n",
       "       'Reverse Harem', 'Islam', 'Angels', 'Witches', 'Amazon',\n",
       "       'Star Wars', 'Productivity', 'Relationships', 'Werewolves',\n",
       "       'Gothic', 'Economics', 'China', 'Health', 'War', 'Art', 'Erotica',\n",
       "       'Politics', 'Turkish Literature', 'Queer', 'Pulp', 'Prayer',\n",
       "       'BDSM', 'Leadership', 'Romantic Suspense', 'Halloween', 'Animals',\n",
       "       'Dark Fantasy', 'Theology', 'M M Romance', 'Education',\n",
       "       'Speculative Fiction', 'Japan', 'Sports', 'Design', 'Reference',\n",
       "       'Fan Fiction', 'Music', 'Westerns', 'Catholic', 'France',\n",
       "       'Lds Fiction', 'Bizarro Fiction', 'Gaming', 'Christianity',\n",
       "       'Magical Realism'], dtype=object)"
      ]
     },
     "execution_count": 84,
     "metadata": {},
     "output_type": "execute_result"
    }
   ],
   "source": [
    "# Check for unique values in the genre column\n",
    "\n",
    "books_df.genre.unique()"
   ]
  },
  {
   "cell_type": "code",
   "execution_count": 85,
   "id": "e7a1d5dd",
   "metadata": {},
   "outputs": [],
   "source": [
    "# Define a dictionary for mapping original values to shortened ones\n",
    "\n",
    "genre_mapping = {\n",
    "    'Picture Books': 'Children',\n",
    "    'Religion': 'Religion/Spirituality',\n",
    "    'Spirituality': 'Religion/Spirituality',\n",
    "    'Christian': 'Religion/Spirituality',\n",
    "    'Christian Fiction': 'Religion/Spirituality',\n",
    "    'Christianity': 'Religion/Spirituality',\n",
    "    'Theology': 'Religion/Spirituality',\n",
    "    'Prayer': 'Religion/Spirituality',\n",
    "    'Buddhism': 'Religion/Spirituality',\n",
    "    'Islam': 'Religion/Spirituality',\n",
    "    'Catholic': 'Religion/Spirituality',\n",
    "    'Historical Fiction': 'Historical',\n",
    "    'World War II': 'Historical',\n",
    "    'War': 'Historical',\n",
    "    'Historical Romance': 'Historical',\n",
    "    'Middle Grade': 'Children',\n",
    "    'Post Apocalyptic': 'Science Fiction',\n",
    "    'Speculative Fiction': 'Science Fiction',\n",
    "    'Star Wars': 'Science Fiction',\n",
    "    'Young Adult Romance': 'Romance',\n",
    "    'Love Story': 'Romance',\n",
    "    'Chick Lit': 'Romance',\n",
    "    'Queer': 'Romance',\n",
    "    'LGBT': 'Romance',\n",
    "    'Reverse Harem': 'Romance',\n",
    "    'M M Romance': 'Romance',\n",
    "    'Sports Romance': 'Romance',\n",
    "    'Urban Fantasy': 'Fantasy',\n",
    "    'Dark Fantasy': 'Fantasy',\n",
    "    'Steampunk': 'Fantasy',\n",
    "    'Magical Realism': 'Fantasy',\n",
    "    'BDSM': 'Erotica',\n",
    "    'Romantic Suspense': 'Mystery/Thriller',\n",
    "    'Mystery': 'Mystery/Thriller',\n",
    "    'Thriller': 'Mystery/Thriller',\n",
    "    'Murder Mystery': 'Mystery/Thriller',\n",
    "    'Legal Thriller': 'Mystery/Thriller',\n",
    "    'Crime': 'Mystery/Thriller',\n",
    "    'True Crime': 'Mystery/Thriller',\n",
    "    'Dark': 'Mystery/Thriller',\n",
    "    'Dystopia': 'Literature',\n",
    "    'Westerns': 'Cultural',\n",
    "    'France': 'Cultural',\n",
    "    'Japan': 'Cultural',\n",
    "    'Africa': 'Cultural',\n",
    "    'China': 'Cultural',\n",
    "    'Amazon': 'Cultural',\n",
    "    'Turkish Literature': 'Cultural',\n",
    "    'Greek Mythology': 'Cultural',\n",
    "    'Mythology': 'Cultural',\n",
    "    'Relationships': 'Personal Development',\n",
    "    'Self Help': 'Personal Development',\n",
    "    'Inspirational': 'Personal Development',\n",
    "    'Survival': 'Personal Development',\n",
    "    'Fantasy': 'Fantasy',\n",
    "    'Childrens': 'Children',\n",
    "    'Science Fiction': 'Science Fiction',\n",
    "    'Nonfiction': 'Nonfiction',\n",
    "    'Adventure': 'Nonfiction',\n",
    "    'Sports': 'Nonfiction',\n",
    "    'Music': 'Nonfiction',\n",
    "    'Design': 'Nonfiction',\n",
    "    'Art': 'Nonfiction',\n",
    "    'Animals': 'Nonfiction',\n",
    "    'Finance': 'Nonfiction',\n",
    "    'Education': 'Nonfiction',\n",
    "    'Romance': 'Romance',\n",
    "    'Historical': 'Historical',\n",
    "    'Erotica': 'Erotica',\n",
    "    'Horror': 'Horror',\n",
    "    'Fiction': 'Fiction',\n",
    "    'Paranormal': 'Paranormal',\n",
    "    'Contemporary': 'Contemporary',\n",
    "    'Contemporary Romance':'Contemporary',\n",
    "    'Realistic Fiction': 'Contemporary',\n",
    "    'Zombies': 'Horror',\n",
    "    'Gothic': 'Horror',\n",
    "    'Angels': 'Paranormal',\n",
    "    'Paranormal Romance': 'Paranormal',\n",
    "    'Vampires': 'Paranormal',\n",
    "    'Witches': 'Paranormal',\n",
    "    'Werewolves': 'Paranormal',\n",
    "    'Graphic Novels': 'Literature',\n",
    "    'Drama': 'Literature',\n",
    "    'Short Stories': 'Literature',\n",
    "    'Plays': 'Literature',\n",
    "    'Writing': 'Nonfiction',\n",
    "    'Politics': 'Nonfiction',\n",
    "    'Business': 'Nonfiction',\n",
    "    'Leadership': 'Nonfiction',\n",
    "    'Economics': 'Nonfiction',\n",
    "    'History': 'Nonfiction',\n",
    "    'Travel': 'Nonfiction',\n",
    "    'Novels': 'Nonfiction',\n",
    "    'Feminism': 'Nonfiction',\n",
    "    'Philosophy': 'Nonfiction',\n",
    "    'Biography': 'Nonfiction',\n",
    "    'Psychology': 'Nonfiction',\n",
    "    'Time Travel': 'Nonfiction',\n",
    "    'Lds Fiction': 'Fiction',\n",
    "    'Fan Fiction': 'Fiction',\n",
    "    'Pulp': 'Fiction',\n",
    "    'Christmas': 'Fiction',\n",
    "    'Halloween': 'Fiction',\n",
    "    'Bizarro Fiction': 'Fiction',\n",
    "    'Autistic Spectrum Disorder': 'Nonfiction',\n",
    "    'Memoir': 'Nonfiction',\n",
    "    'Parenting': 'Nonfiction',\n",
    "    'Health': 'Nonfiction',\n",
    "    'Reference': 'Nonfiction',\n",
    "    'Productivity': 'Nonfiction',\n",
    "    'Classics': 'Classics',\n",
    "    'Comics': 'Comics',\n",
    "    'Humor': 'Humor',\n",
    "    'Manga': 'Manga',\n",
    "    'New Adult': 'New Adult',\n",
    "    'Poetry': 'Poetry',\n",
    "    'Science': 'Nonfiction',\n",
    "    'Young Adult': 'Young Adult',\n",
    "    'Gaming': 'Gaming',\n",
    "    'Religion/Spirituality': 'Religion/Spirituality',\n",
    "    'Children': 'Children', \n",
    "    'Literature': 'Literature',\n",
    "    'Mystery/Thriller': 'Mystery/Thriller',\n",
    "    'Personal Development': 'Personal Development',\n",
    "    'Cultural': 'Cultural'\n",
    "    }\n",
    "\n",
    "\n",
    "\n",
    "books_df.loc[:, 'genre'] = books_df['genre'].map(genre_mapping)\n",
    "            "
   ]
  },
  {
   "cell_type": "code",
   "execution_count": 86,
   "id": "32a5ac4c",
   "metadata": {},
   "outputs": [
    {
     "data": {
      "text/plain": [
       "['Adventure',\n",
       " 'Africa',\n",
       " 'Amazon',\n",
       " 'Angels',\n",
       " 'Animals',\n",
       " 'Art',\n",
       " 'Autistic Spectrum Disorder',\n",
       " 'BDSM',\n",
       " 'Biography',\n",
       " 'Bizarro Fiction',\n",
       " 'Buddhism',\n",
       " 'Business',\n",
       " 'Catholic',\n",
       " 'Chick Lit',\n",
       " 'Childrens',\n",
       " 'China',\n",
       " 'Christian',\n",
       " 'Christian Fiction',\n",
       " 'Christianity',\n",
       " 'Christmas',\n",
       " 'Classics',\n",
       " 'Comics',\n",
       " 'Contemporary',\n",
       " 'Contemporary Romance',\n",
       " 'Crime',\n",
       " 'Dark',\n",
       " 'Dark Fantasy',\n",
       " 'Design',\n",
       " 'Drama',\n",
       " 'Dystopia',\n",
       " 'Economics',\n",
       " 'Education',\n",
       " 'Erotica',\n",
       " 'Fan Fiction',\n",
       " 'Fantasy',\n",
       " 'Feminism',\n",
       " 'Fiction',\n",
       " 'Finance',\n",
       " 'France',\n",
       " 'Gaming',\n",
       " 'Gothic',\n",
       " 'Graphic Novels',\n",
       " 'Greek Mythology',\n",
       " 'Halloween',\n",
       " 'Health',\n",
       " 'Historical',\n",
       " 'Historical Fiction',\n",
       " 'Historical Romance',\n",
       " 'History',\n",
       " 'Horror',\n",
       " 'Humor',\n",
       " 'Inspirational',\n",
       " 'Islam',\n",
       " 'Japan',\n",
       " 'LGBT',\n",
       " 'Lds Fiction',\n",
       " 'Leadership',\n",
       " 'Legal Thriller',\n",
       " 'Love Story',\n",
       " 'M M Romance',\n",
       " 'Magical Realism',\n",
       " 'Manga',\n",
       " 'Memoir',\n",
       " 'Middle Grade',\n",
       " 'Murder Mystery',\n",
       " 'Music',\n",
       " 'Mystery',\n",
       " 'Mythology',\n",
       " 'New Adult',\n",
       " 'Nonfiction',\n",
       " 'Novels',\n",
       " 'Paranormal',\n",
       " 'Paranormal Romance',\n",
       " 'Parenting',\n",
       " 'Philosophy',\n",
       " 'Picture Books',\n",
       " 'Plays',\n",
       " 'Poetry',\n",
       " 'Politics',\n",
       " 'Post Apocalyptic',\n",
       " 'Prayer',\n",
       " 'Productivity',\n",
       " 'Psychology',\n",
       " 'Pulp',\n",
       " 'Queer',\n",
       " 'Realistic Fiction',\n",
       " 'Reference',\n",
       " 'Relationships',\n",
       " 'Religion',\n",
       " 'Reverse Harem',\n",
       " 'Romance',\n",
       " 'Romantic Suspense',\n",
       " 'Science',\n",
       " 'Science Fiction',\n",
       " 'Self Help',\n",
       " 'Short Stories',\n",
       " 'Speculative Fiction',\n",
       " 'Spirituality',\n",
       " 'Sports',\n",
       " 'Sports Romance',\n",
       " 'Star Wars',\n",
       " 'Steampunk',\n",
       " 'Survival',\n",
       " 'Theology',\n",
       " 'Thriller',\n",
       " 'Time Travel',\n",
       " 'Travel',\n",
       " 'True Crime',\n",
       " 'Turkish Literature',\n",
       " 'Urban Fantasy',\n",
       " 'Vampires',\n",
       " 'War',\n",
       " 'Werewolves',\n",
       " 'Westerns',\n",
       " 'Witches',\n",
       " 'World War II',\n",
       " 'Writing',\n",
       " 'Young Adult',\n",
       " 'Young Adult Romance',\n",
       " 'Zombies']"
      ]
     },
     "execution_count": 86,
     "metadata": {},
     "output_type": "execute_result"
    }
   ],
   "source": [
    "genres = ['Young Adult', 'Classics', 'Historical Fiction', 'Fantasy',\n",
    "       'Childrens', 'Fiction', 'Science Fiction', 'Horror',\n",
    "       'Picture Books', 'Mystery', 'Nonfiction', 'Romance',\n",
    "       'Graphic Novels', 'Thriller', 'Plays', 'Poetry', 'History',\n",
    "       'Comics', 'Travel', 'Philosophy', 'Paranormal', 'Science',\n",
    "       'Christian Fiction', 'Short Stories', 'Paranormal Romance',\n",
    "       'Contemporary', 'Self Help', 'Mythology', 'Christmas', 'Religion',\n",
    "       'Dystopia', 'Autistic Spectrum Disorder', 'Chick Lit', 'Vampires',\n",
    "       'Greek Mythology', 'Africa', 'Christian', 'Urban Fantasy',\n",
    "       'True Crime', 'Memoir', 'Survival', 'Drama',\n",
    "       'Contemporary Romance', 'Realistic Fiction', 'Humor', 'Feminism',\n",
    "       'Spirituality', 'Dark', 'Business', 'LGBT', 'Writing', 'Biography',\n",
    "       'Zombies', 'New Adult', 'Legal Thriller', 'Steampunk', 'Manga',\n",
    "       'Murder Mystery', 'Psychology', 'Novels', 'Love Story',\n",
    "       'Post Apocalyptic', 'Historical Romance', 'Sports Romance',\n",
    "       'Inspirational', 'Parenting', 'World War II',\n",
    "       'Young Adult Romance', 'Time Travel', 'Finance', 'Crime',\n",
    "       'Middle Grade', 'Historical', 'Buddhism', 'Adventure',\n",
    "       'Reverse Harem', 'Islam', 'Angels', 'Witches', 'Amazon',\n",
    "       'Star Wars', 'Productivity', 'Relationships', 'Werewolves',\n",
    "       'Gothic', 'Economics', 'China', 'Health', 'War', 'Art', 'Erotica',\n",
    "       'Politics', 'Turkish Literature', 'Queer', 'Pulp', 'Prayer',\n",
    "       'BDSM', 'Leadership', 'Romantic Suspense', 'Halloween', 'Animals',\n",
    "       'Dark Fantasy', 'Theology', 'M M Romance', 'Education',\n",
    "       'Speculative Fiction', 'Japan', 'Sports', 'Design', 'Reference',\n",
    "       'Fan Fiction', 'Music', 'Westerns', 'Catholic', 'France',\n",
    "       'Lds Fiction', 'Bizarro Fiction', 'Gaming', 'Christianity',\n",
    "       'Magical Realism']\n",
    "genres.sort()\n",
    "genres"
   ]
  },
  {
   "cell_type": "code",
   "execution_count": 88,
   "id": "e3f512cf",
   "metadata": {},
   "outputs": [
    {
     "data": {
      "text/plain": [
       "array(['Young Adult', 'Classics', 'Historical', 'Fantasy', 'Children',\n",
       "       'Fiction', 'Science Fiction', 'Horror', 'Mystery/Thriller',\n",
       "       'Nonfiction', 'Romance', 'Literature', 'Poetry', 'Comics',\n",
       "       'Paranormal', 'Religion/Spirituality', 'Contemporary',\n",
       "       'Personal Development', 'Cultural', 'Humor', 'New Adult', 'Manga',\n",
       "       'Erotica', 'Gaming'], dtype=object)"
      ]
     },
     "execution_count": 88,
     "metadata": {},
     "output_type": "execute_result"
    }
   ],
   "source": [
    "# Check the unique values again\n",
    "\n",
    "books_df.genre.unique()"
   ]
  },
  {
   "cell_type": "code",
   "execution_count": 89,
   "id": "7b77dc35",
   "metadata": {},
   "outputs": [
    {
     "data": {
      "text/plain": [
       "0"
      ]
     },
     "execution_count": 89,
     "metadata": {},
     "output_type": "execute_result"
    }
   ],
   "source": [
    "# Check for NaN values again\n",
    "\n",
    "books_df['genre'].isna().sum()"
   ]
  },
  {
   "cell_type": "code",
   "execution_count": 90,
   "id": "9859fcf2",
   "metadata": {},
   "outputs": [
    {
     "data": {
      "text/plain": [
       "0    374 pages, Hardcover\n",
       "1    912 pages, Paperback\n",
       "2    279 pages, Paperback\n",
       "3    323 pages, Paperback\n",
       "4    592 pages, Hardcover\n",
       "Name: num_pages, dtype: object"
      ]
     },
     "execution_count": 90,
     "metadata": {},
     "output_type": "execute_result"
    }
   ],
   "source": [
    "# Check the column num_pages\n",
    "\n",
    "books_df.num_pages.head()"
   ]
  },
  {
   "cell_type": "code",
   "execution_count": 91,
   "id": "16261843",
   "metadata": {},
   "outputs": [],
   "source": [
    "# Split the num_pages column into two columns: number_of_pages and book_format\n",
    "\n",
    "split_data = books_df['num_pages'].str.split(' pages, ', expand=True)"
   ]
  },
  {
   "cell_type": "code",
   "execution_count": 92,
   "id": "bf26fa8a",
   "metadata": {},
   "outputs": [
    {
     "data": {
      "text/html": [
       "<div>\n",
       "<style scoped>\n",
       "    .dataframe tbody tr th:only-of-type {\n",
       "        vertical-align: middle;\n",
       "    }\n",
       "\n",
       "    .dataframe tbody tr th {\n",
       "        vertical-align: top;\n",
       "    }\n",
       "\n",
       "    .dataframe thead th {\n",
       "        text-align: right;\n",
       "    }\n",
       "</style>\n",
       "<table border=\"1\" class=\"dataframe\">\n",
       "  <thead>\n",
       "    <tr style=\"text-align: right;\">\n",
       "      <th></th>\n",
       "      <th>title</th>\n",
       "      <th>author</th>\n",
       "      <th>stars</th>\n",
       "      <th>ratings</th>\n",
       "      <th>reviews</th>\n",
       "      <th>synopsis</th>\n",
       "      <th>genre</th>\n",
       "      <th>published</th>\n",
       "      <th>num_books</th>\n",
       "      <th>version</th>\n",
       "      <th>price</th>\n",
       "      <th>number_of_pages</th>\n",
       "      <th>book_format</th>\n",
       "    </tr>\n",
       "  </thead>\n",
       "  <tbody>\n",
       "    <tr>\n",
       "      <th>0</th>\n",
       "      <td>The Hunger Games</td>\n",
       "      <td>SUZANNE COLLINS</td>\n",
       "      <td>4.34</td>\n",
       "      <td>8601389</td>\n",
       "      <td>216773</td>\n",
       "      <td>Could you survive on your own in the wild, wit...</td>\n",
       "      <td>Young Adult</td>\n",
       "      <td>First published September 14, 2008</td>\n",
       "      <td>72 books99.7k followers</td>\n",
       "      <td>Kindle Unlimited</td>\n",
       "      <td>0.0</td>\n",
       "      <td>374</td>\n",
       "      <td>Hardcover</td>\n",
       "    </tr>\n",
       "  </tbody>\n",
       "</table>\n",
       "</div>"
      ],
      "text/plain": [
       "              title           author  stars  ratings  reviews  \\\n",
       "0  The Hunger Games  SUZANNE COLLINS   4.34  8601389   216773   \n",
       "\n",
       "                                            synopsis        genre  \\\n",
       "0  Could you survive on your own in the wild, wit...  Young Adult   \n",
       "\n",
       "                            published                num_books  \\\n",
       "0  First published September 14, 2008  72 books99.7k followers   \n",
       "\n",
       "            version  price number_of_pages book_format  \n",
       "0  Kindle Unlimited    0.0             374   Hardcover  "
      ]
     },
     "execution_count": 92,
     "metadata": {},
     "output_type": "execute_result"
    }
   ],
   "source": [
    "# Create a copy of the DataFrame to ensure you are working with the original data\n",
    "books_df = books_df.copy()\n",
    "\n",
    "# Update the 'number_of_pages' column\n",
    "books_df.loc[:, 'number_of_pages'] = split_data[0].str.replace(' pages', '', regex=False)\n",
    "\n",
    "# Update the 'book_format' column\n",
    "books_df.loc[:, 'book_format'] = split_data[1]\n",
    "\n",
    "# Drop the original column\n",
    "books_df.drop(columns=['num_pages'], inplace=True)\n",
    "\n",
    "# Display the modified DataFrame\n",
    "books_df.head(1)"
   ]
  },
  {
   "cell_type": "code",
   "execution_count": 93,
   "id": "ae298eda",
   "metadata": {},
   "outputs": [
    {
     "data": {
      "text/plain": [
       "array(['374', '912', '279', '323', '592', '498', '128', '1728', '767',\n",
       "       '313', '272', '64', '1037', '464', '213', '532', '377', '180',\n",
       "       '96', '489', '239', '671', '503', '487', '1463', '182', '281',\n",
       "       '320', '485', '216', '488', '324', '184', '197', '107', '194',\n",
       "       '277', '417', '268', '372', '537', '429', '331', '835', '208',\n",
       "       '449', '298', '218', '541', '260', '371', '759', '333', '314',\n",
       "       '38', '327', '460', '368', '658', '275', '435', '294', '240',\n",
       "       '1152', '453', '976', '389', '478', '432', '544', '850', '480',\n",
       "       '304', '325', '964', '423', '796', '496', '241', '264', '399',\n",
       "       '332', '1168', '152', '452', '497', '821', '346', '1023', '546',\n",
       "       '734', '227', '161', '158', '652', '720', '637', '479', '159',\n",
       "       '302', '352', '662', '201', '366', '529', '221', '244', '176',\n",
       "       '26', '1276', '381', '226', '206', '210', '307', '536', '448',\n",
       "       '343', '263', '224', '196', '635', '416', '61', '798', '391',\n",
       "       '296', '2700', '960', '491', '465', '178', '348', '525', '70',\n",
       "       '215', '361', '692', '137', '443', '567', '815', '238', '89',\n",
       "       '351', '154', '625', '72', '384', '32', '1155', '406', '518',\n",
       "       '188', '559', '190', '274', '127', '408', '418', '172', '421',\n",
       "       '248', '336', '44', '329', '1009', '506', '396', '608', '112',\n",
       "       '626', '783', '1177', '356', '283', '466', '370', '516', '293',\n",
       "       '504', '882', '610', '576', '242', '1088', '335', '386', '400',\n",
       "       '40', '1556', '326', '255', '661', '594', '189', '394', '165',\n",
       "       '415', '143', '179', '425', '222', '360', '321', '349', '233',\n",
       "       '784', '607', '291', '390', '392', '306', '1216', '204', '1456',\n",
       "       '471', '888', '467', '305', '1796', '203', '667', '566', '561',\n",
       "       '563', '1007', '481', '338', '441', '581', '246', '363', '446',\n",
       "       '438', '560', '437', '639', '288', '897', '301', '444', '129',\n",
       "       '704', '118', '512', '1229', '315', '521', '624', '535', '994',\n",
       "       '586', '1064', '149', '369', '483', '601', '403', '419', '195',\n",
       "       '256', '289', '562', '531', '679', '258', '292', '312', '328',\n",
       "       '738', '245', '231', '252', '1344', '4100', '800', '579', '148',\n",
       "       '318', '604', '849', '139', '1392', '393', '597', '509', '510',\n",
       "       '490', '748', '199', '565', '186', '540', '725', '647', '276',\n",
       "       '76', '427', '308', '219', '947', '303', '142', '703', '388',\n",
       "       '410', '144', '420', '603', '378', '475', '1060', '250', '160',\n",
       "       '1006', '445', '580', '433', '337', '447', '105', '254', '936',\n",
       "       '109', '440', '648', '209', '249', '385', '1125', '454', '207',\n",
       "       '310', '383', '434', '1690', '771', '870', '468', '457', '736',\n",
       "       '119', '120', '474', '1017', '192', '705', '716', '672', '409',\n",
       "       '175', '684', '1207', '342', '836', '309', '867', '358', '181',\n",
       "       '297', '316', '461', '237', '1520', '528', '1087', '217', '500',\n",
       "       '710', '456', '552', '431', '376', '689', '723', '230', '273',\n",
       "       '193', '382', '354', '104', '928', '656', '1237', '1049', '198',\n",
       "       '501', '243', '183', '232', '319', '247', '470', '355', '439',\n",
       "       '463', '752', '522', '317', '944', '776', '300', '362', '623',\n",
       "       '75', '729', '401', '269', '345', '1590', '126', '1050', '1443',\n",
       "       '751', '555', '980', 'Paperback', '285', '1074', '56', '442',\n",
       "       '235', '284', '572', '469', '706', '407', '334', '956', '280',\n",
       "       '653', '757', '80', '569', '534', '455', '228', '174', '426', '97',\n",
       "       '803', '527', '450', '229', '797', '1213', '513', '357', '430',\n",
       "       '99', '130', '599', '554', '827', '578', '106', '405', '1531',\n",
       "       '520', '397', '147', '424', '123', '270', '295', '515', '344',\n",
       "       '845', '514', '462', '375', '290', '556', '690', '121', '402',\n",
       "       '628', '341', '353', '688', '756', '530', '387', '77', '507',\n",
       "       '436', '220', '262', '492', '451', '122', '958', '82', '322',\n",
       "       '622', '259', '146', 'ebook', '74', '404', '629', '476', '1032',\n",
       "       '681', 'Kindle Edition', '790', '365', '286', '340', '896', '458',\n",
       "       '52', '359', '212', '60', '564', '985', '136', '848', '177', '557',\n",
       "       '169', '577', '645', '548', '282', '339', '73', '750', '589',\n",
       "       '1040', '1182', '640', '909', '721', '261', '517', '1859', '795',\n",
       "       '937', '545', '2088', '1173', '108', '558', '699', '347', '86',\n",
       "       '472', '132', '236', '820', '638', '832', '590', '573', '150',\n",
       "       '162', '733', '350', '499', '398', '185', '98', '735', '859',\n",
       "       '380', '664', '278', '643', '913', '1147', '287', '726', '191',\n",
       "       '412', '411', '422', '1056', '124', '666', '234', '1243', '187',\n",
       "       '153', 'Hardcover', '553', '459', '824', '477', '1273', '200',\n",
       "       '367', '265', '584', '675', '494', '1120', '668', '299', '1952',\n",
       "       '395', '812', '714', '1474', '630', '598', '914', '414', '613',\n",
       "       '732', '654', '663', '802', '1080', '884', '151', '644',\n",
       "       'Audio Cassette', '59', '1042', '582', '266', '4211', '805', '271',\n",
       "       '379', '110', '1258', '533', '817', '660', '746', '364', '676',\n",
       "       '48', '1128', '596', '1376', '670', '731', '63', '116', '111',\n",
       "       '373', '1024', '1204', '65', '31', '583', '526', '549', '611',\n",
       "       '28', '493', '202', '145', '50', '801', '651', '330', '1774',\n",
       "       '842', '502', '1021', '1011', '785', '819', '133', '168', '942',\n",
       "       '636', '225', '68', '214', '543', '5216', '984', '486', '940',\n",
       "       '740', '880', '730', '916', '173', '922', '789', '505', '101',\n",
       "       '482', '19', '893', '682', '927', '113', '311', '568', '925',\n",
       "       '659', '600', '131', '591', '2934', '934', '650', '257', '484',\n",
       "       '166', '251', '138', '891', '742', '612', '863', '43', '3', '1144',\n",
       "       '205', '872', '51', '413', '975', '774', '822', '970', '103',\n",
       "       '894', '3342', '16', '20', 'Audio CD', '253', '986', '808', '614',\n",
       "       '1799', '1148', '587', '11', '156', '58', '593', '693', '2184',\n",
       "       '140', '3403', '157', '722', '163', '473', '631', '816', '6680',\n",
       "       '649', '906', '117', '754', '125', '1076', '632', '794', '860',\n",
       "       '547', '691', '1468', '876', '1139', '709', '30', '495', '78',\n",
       "       '538', 'Mass Market Paperback', '267', '700', '41', '818', '972',\n",
       "       '788', '609', '155', '864', '1059', '768', '780', '134', '211',\n",
       "       '769', '655', '839', '223', '2752', '3914', '90', '570', '674',\n",
       "       '24', '42', '908', '657', '983', '571', '508', '88', '1332',\n",
       "       '1452', '34', '542', '1536', '95', '866', '724', '428', '1848',\n",
       "       '91', '114', '4081', '2176', '67', '10', '775', '1203', '620',\n",
       "       '164', '627', '523', '1219', '606', '170', '62', '39', '1408',\n",
       "       '84', 'Audible Audio', '702', '766', '1744', '519', '115', '605',\n",
       "       '685', '55', '2500', '23', '595', '773', '764', '837', '618', '81',\n",
       "       '747', '46', '921', '2424', '171', '991', '49', 'Nook', '765',\n",
       "       '100', '665', '669', '2339', '2432', '1246', '990', '2546', '1041',\n",
       "       '932', '14', '8', '85', '701', '878', '678', '881', '550', '71',\n",
       "       '2114', '1160', '9', '575', '167', '135', '2078', '862', '1792',\n",
       "       '1072', '1020', '1600', '1231', '694', '741', '811', '616', '792',\n",
       "       '615', '950', '641', '574', '37', '511', '1085', '1145', '1552',\n",
       "       '791', '886', '1030', '36', '2050', '13', '634', '1184', '7',\n",
       "       '1620', '2', '887', '54', '1044', '1110', '1312', '673', '1635',\n",
       "       '1534', '1015', '92', '539', '825', '939', '6576', '1200', '621',\n",
       "       '18', '53', '633', '69', '1104', '2057', '772', '787', 'MP3 Audio',\n",
       "       '1196', '94', '847', '1844', '2912'], dtype=object)"
      ]
     },
     "execution_count": 93,
     "metadata": {},
     "output_type": "execute_result"
    }
   ],
   "source": [
    "# Check for unique values in number_of_pages column\n",
    "\n",
    "\n",
    "books_df['number_of_pages'].unique()"
   ]
  },
  {
   "cell_type": "code",
   "execution_count": 94,
   "id": "683bf2e2",
   "metadata": {},
   "outputs": [],
   "source": [
    "# Update the 'number_of_pages' column\n",
    "books_df.loc[:, 'number_of_pages'] = books_df['number_of_pages'].where(\n",
    "books_df['number_of_pages'].notnull() & books_df['number_of_pages'].astype(str).str.isdigit())\n",
    "\n",
    "# Drop rows with NaN values\n",
    "books_df.dropna(inplace=True)"
   ]
  },
  {
   "cell_type": "code",
   "execution_count": 95,
   "id": "1717f34f",
   "metadata": {},
   "outputs": [
    {
     "data": {
      "text/plain": [
       "0"
      ]
     },
     "execution_count": 95,
     "metadata": {},
     "output_type": "execute_result"
    }
   ],
   "source": [
    "# Check for NaN values\n",
    "\n",
    "books_df.number_of_pages.isnull().sum()"
   ]
  },
  {
   "cell_type": "code",
   "execution_count": 96,
   "id": "de206632",
   "metadata": {},
   "outputs": [],
   "source": [
    "# Convert into integer type\n",
    "\n",
    "books_df['number_of_pages'] = books_df['number_of_pages'].astype(int)"
   ]
  },
  {
   "cell_type": "code",
   "execution_count": 97,
   "id": "e0704a5e",
   "metadata": {},
   "outputs": [
    {
     "data": {
      "text/plain": [
       "array(['Hardcover', 'Paperback', 'Mass Market Paperback',\n",
       "       'Kindle Edition', 'ebook', 'Board book', 'Leather Bound',\n",
       "       'Library Binding', 'Nook', 'Perfect Paperback', 'Unknown Binding',\n",
       "       'Audio CD', 'Audiobook', 'Trade Paperback', 'Slipcased Hardcover',\n",
       "       'Board Book', 'Webnovel', 'Audible Audio', 'Audio Cassette',\n",
       "       'Brochura', 'MP3 CD', 'School & Library Binding'], dtype=object)"
      ]
     },
     "execution_count": 97,
     "metadata": {},
     "output_type": "execute_result"
    }
   ],
   "source": [
    "# Check the column book_format\n",
    "\n",
    "books_df.book_format.unique()"
   ]
  },
  {
   "cell_type": "code",
   "execution_count": 98,
   "id": "110c0e7d",
   "metadata": {},
   "outputs": [],
   "source": [
    "books_df['book_format'].replace(to_replace={'Mass Market Paperback': 'Paperback',\n",
    "                                           'Perfect Paperback': 'Paperback',\n",
    "                                           'Trade Paperback': 'Paperback',\n",
    "                                           'Board book': 'Hardcover',\n",
    "                                           'Board Book': 'Hardcover',\n",
    "                                           'Leather Bound': 'Hardcover',\n",
    "                                           'Slipcased Hardcover': 'Hardcover',\n",
    "                                           'Library Binding': 'Hardcover',\n",
    "                                           'School & Library Binding': 'Hardcover',\n",
    "                                           'Kindle Edition': 'ebook',\n",
    "                                           'Nook': 'ebook',\n",
    "                                           'Webnovel': 'ebook',\n",
    "                                           'Unknown Binding': 'ebook',\n",
    "                                           'Audio CD': 'Audio',\n",
    "                                           'Audiobook': 'Audio',\n",
    "                                           'Audible Audio': 'Audio',\n",
    "                                           'MP3 CD': 'Audio',\n",
    "                                           'Audio Cassette': 'Audio',\n",
    "                                            None: 'Paperback',\n",
    "                                           'Brochura': 'Paperback'}, inplace=True)\n"
   ]
  },
  {
   "cell_type": "code",
   "execution_count": 99,
   "id": "e84b8798",
   "metadata": {},
   "outputs": [
    {
     "data": {
      "text/plain": [
       "array(['Hardcover', 'Paperback', 'ebook', 'Audio'], dtype=object)"
      ]
     },
     "execution_count": 99,
     "metadata": {},
     "output_type": "execute_result"
    }
   ],
   "source": [
    "# Check the unique values again\n",
    "\n",
    "books_df.book_format.unique()"
   ]
  },
  {
   "cell_type": "code",
   "execution_count": 100,
   "id": "4cf7d06c",
   "metadata": {},
   "outputs": [
    {
     "data": {
      "text/plain": [
       "0    First published September 14, 2008\n",
       "1         First published June 21, 2003\n",
       "2      First published January 28, 1813\n",
       "3         First published July 11, 1960\n",
       "4     First published September 1, 2005\n",
       "Name: published, dtype: object"
      ]
     },
     "execution_count": 100,
     "metadata": {},
     "output_type": "execute_result"
    }
   ],
   "source": [
    "# Check the column published\n",
    "\n",
    "books_df.published.head()"
   ]
  },
  {
   "cell_type": "code",
   "execution_count": 101,
   "id": "89a7e002",
   "metadata": {},
   "outputs": [
    {
     "data": {
      "text/html": [
       "<div>\n",
       "<style scoped>\n",
       "    .dataframe tbody tr th:only-of-type {\n",
       "        vertical-align: middle;\n",
       "    }\n",
       "\n",
       "    .dataframe tbody tr th {\n",
       "        vertical-align: top;\n",
       "    }\n",
       "\n",
       "    .dataframe thead th {\n",
       "        text-align: right;\n",
       "    }\n",
       "</style>\n",
       "<table border=\"1\" class=\"dataframe\">\n",
       "  <thead>\n",
       "    <tr style=\"text-align: right;\">\n",
       "      <th></th>\n",
       "      <th>title</th>\n",
       "      <th>author</th>\n",
       "      <th>stars</th>\n",
       "      <th>ratings</th>\n",
       "      <th>reviews</th>\n",
       "      <th>synopsis</th>\n",
       "      <th>genre</th>\n",
       "      <th>num_books</th>\n",
       "      <th>version</th>\n",
       "      <th>price</th>\n",
       "      <th>number_of_pages</th>\n",
       "      <th>book_format</th>\n",
       "      <th>published_date</th>\n",
       "    </tr>\n",
       "  </thead>\n",
       "  <tbody>\n",
       "    <tr>\n",
       "      <th>0</th>\n",
       "      <td>The Hunger Games</td>\n",
       "      <td>SUZANNE COLLINS</td>\n",
       "      <td>4.34</td>\n",
       "      <td>8601389</td>\n",
       "      <td>216773</td>\n",
       "      <td>Could you survive on your own in the wild, wit...</td>\n",
       "      <td>Young Adult</td>\n",
       "      <td>72 books99.7k followers</td>\n",
       "      <td>Kindle Unlimited</td>\n",
       "      <td>0.0</td>\n",
       "      <td>374</td>\n",
       "      <td>Hardcover</td>\n",
       "      <td>September 14, 2008</td>\n",
       "    </tr>\n",
       "  </tbody>\n",
       "</table>\n",
       "</div>"
      ],
      "text/plain": [
       "              title           author  stars  ratings  reviews  \\\n",
       "0  The Hunger Games  SUZANNE COLLINS   4.34  8601389   216773   \n",
       "\n",
       "                                            synopsis        genre  \\\n",
       "0  Could you survive on your own in the wild, wit...  Young Adult   \n",
       "\n",
       "                 num_books           version  price  number_of_pages  \\\n",
       "0  72 books99.7k followers  Kindle Unlimited    0.0              374   \n",
       "\n",
       "  book_format      published_date  \n",
       "0   Hardcover  September 14, 2008  "
      ]
     },
     "execution_count": 101,
     "metadata": {},
     "output_type": "execute_result"
    }
   ],
   "source": [
    "# Extract the date from published column\n",
    "\n",
    "books_df['published_date'] = books_df['published'].str.extract(r'(\\w+ \\d{1,2}, \\d{4})')\n",
    "books_df.drop(columns=['published'], inplace=True)\n",
    "books_df.head(1)"
   ]
  },
  {
   "cell_type": "code",
   "execution_count": 102,
   "id": "49325247",
   "metadata": {},
   "outputs": [
    {
     "data": {
      "text/plain": [
       "40"
      ]
     },
     "execution_count": 102,
     "metadata": {},
     "output_type": "execute_result"
    }
   ],
   "source": [
    "# Check for NaN values\n",
    "\n",
    "books_df.published_date.isnull().sum()"
   ]
  },
  {
   "cell_type": "code",
   "execution_count": 103,
   "id": "dc105c27",
   "metadata": {},
   "outputs": [],
   "source": [
    "# Drop rows with NaN values in the 'published_date' column\n",
    "books_df.dropna(subset=['published_date'], inplace=True)\n",
    "\n",
    "# Extract the year from the published_date column \n",
    "books_df['published_year'] = books_df['published_date'].str.split(', ').str[1]\n",
    "\n",
    "# Convert the year column to integer\n",
    "books_df['published_year'] = books_df['published_year'].astype(int)"
   ]
  },
  {
   "cell_type": "code",
   "execution_count": 104,
   "id": "cd2c2e27",
   "metadata": {},
   "outputs": [
    {
     "data": {
      "text/html": [
       "<div>\n",
       "<style scoped>\n",
       "    .dataframe tbody tr th:only-of-type {\n",
       "        vertical-align: middle;\n",
       "    }\n",
       "\n",
       "    .dataframe tbody tr th {\n",
       "        vertical-align: top;\n",
       "    }\n",
       "\n",
       "    .dataframe thead th {\n",
       "        text-align: right;\n",
       "    }\n",
       "</style>\n",
       "<table border=\"1\" class=\"dataframe\">\n",
       "  <thead>\n",
       "    <tr style=\"text-align: right;\">\n",
       "      <th></th>\n",
       "      <th>title</th>\n",
       "      <th>author</th>\n",
       "      <th>stars</th>\n",
       "      <th>ratings</th>\n",
       "      <th>reviews</th>\n",
       "      <th>synopsis</th>\n",
       "      <th>genre</th>\n",
       "      <th>num_books</th>\n",
       "      <th>version</th>\n",
       "      <th>price</th>\n",
       "      <th>number_of_pages</th>\n",
       "      <th>book_format</th>\n",
       "      <th>published_date</th>\n",
       "      <th>published_year</th>\n",
       "    </tr>\n",
       "  </thead>\n",
       "  <tbody>\n",
       "    <tr>\n",
       "      <th>0</th>\n",
       "      <td>The Hunger Games</td>\n",
       "      <td>SUZANNE COLLINS</td>\n",
       "      <td>4.34</td>\n",
       "      <td>8601389</td>\n",
       "      <td>216773</td>\n",
       "      <td>Could you survive on your own in the wild, wit...</td>\n",
       "      <td>Young Adult</td>\n",
       "      <td>72 books99.7k followers</td>\n",
       "      <td>Kindle Unlimited</td>\n",
       "      <td>0.0</td>\n",
       "      <td>374</td>\n",
       "      <td>Hardcover</td>\n",
       "      <td>September 14, 2008</td>\n",
       "      <td>2008</td>\n",
       "    </tr>\n",
       "  </tbody>\n",
       "</table>\n",
       "</div>"
      ],
      "text/plain": [
       "              title           author  stars  ratings  reviews  \\\n",
       "0  The Hunger Games  SUZANNE COLLINS   4.34  8601389   216773   \n",
       "\n",
       "                                            synopsis        genre  \\\n",
       "0  Could you survive on your own in the wild, wit...  Young Adult   \n",
       "\n",
       "                 num_books           version  price  number_of_pages  \\\n",
       "0  72 books99.7k followers  Kindle Unlimited    0.0              374   \n",
       "\n",
       "  book_format      published_date  published_year  \n",
       "0   Hardcover  September 14, 2008            2008  "
      ]
     },
     "execution_count": 104,
     "metadata": {},
     "output_type": "execute_result"
    }
   ],
   "source": [
    "books_df.head(1)"
   ]
  },
  {
   "cell_type": "code",
   "execution_count": 105,
   "id": "82f4510d",
   "metadata": {},
   "outputs": [
    {
     "data": {
      "text/plain": [
       "0       72 books99.7k followers\n",
       "1       535 books225k followers\n",
       "2    4,124 books66.3k followers\n",
       "3       70 books13.5k followers\n",
       "4       23 books39.2k followers\n",
       "Name: num_books, dtype: object"
      ]
     },
     "execution_count": 105,
     "metadata": {},
     "output_type": "execute_result"
    }
   ],
   "source": [
    "# Check the column num_books\n",
    "\n",
    "books_df.num_books.head()"
   ]
  },
  {
   "cell_type": "code",
   "execution_count": 106,
   "id": "29fc0ecb",
   "metadata": {},
   "outputs": [
    {
     "data": {
      "text/html": [
       "<div>\n",
       "<style scoped>\n",
       "    .dataframe tbody tr th:only-of-type {\n",
       "        vertical-align: middle;\n",
       "    }\n",
       "\n",
       "    .dataframe tbody tr th {\n",
       "        vertical-align: top;\n",
       "    }\n",
       "\n",
       "    .dataframe thead th {\n",
       "        text-align: right;\n",
       "    }\n",
       "</style>\n",
       "<table border=\"1\" class=\"dataframe\">\n",
       "  <thead>\n",
       "    <tr style=\"text-align: right;\">\n",
       "      <th></th>\n",
       "      <th>title</th>\n",
       "      <th>author</th>\n",
       "      <th>stars</th>\n",
       "      <th>ratings</th>\n",
       "      <th>reviews</th>\n",
       "      <th>synopsis</th>\n",
       "      <th>genre</th>\n",
       "      <th>version</th>\n",
       "      <th>price</th>\n",
       "      <th>number_of_pages</th>\n",
       "      <th>book_format</th>\n",
       "      <th>published_date</th>\n",
       "      <th>published_year</th>\n",
       "      <th>num_books_author</th>\n",
       "      <th>followers_author</th>\n",
       "    </tr>\n",
       "  </thead>\n",
       "  <tbody>\n",
       "    <tr>\n",
       "      <th>0</th>\n",
       "      <td>The Hunger Games</td>\n",
       "      <td>SUZANNE COLLINS</td>\n",
       "      <td>4.34</td>\n",
       "      <td>8601389</td>\n",
       "      <td>216773</td>\n",
       "      <td>Could you survive on your own in the wild, wit...</td>\n",
       "      <td>Young Adult</td>\n",
       "      <td>Kindle Unlimited</td>\n",
       "      <td>0.0</td>\n",
       "      <td>374</td>\n",
       "      <td>Hardcover</td>\n",
       "      <td>September 14, 2008</td>\n",
       "      <td>2008</td>\n",
       "      <td>72</td>\n",
       "      <td>s99.7k followers</td>\n",
       "    </tr>\n",
       "  </tbody>\n",
       "</table>\n",
       "</div>"
      ],
      "text/plain": [
       "              title           author  stars  ratings  reviews  \\\n",
       "0  The Hunger Games  SUZANNE COLLINS   4.34  8601389   216773   \n",
       "\n",
       "                                            synopsis        genre  \\\n",
       "0  Could you survive on your own in the wild, wit...  Young Adult   \n",
       "\n",
       "            version  price  number_of_pages book_format      published_date  \\\n",
       "0  Kindle Unlimited    0.0              374   Hardcover  September 14, 2008   \n",
       "\n",
       "   published_year num_books_author  followers_author  \n",
       "0            2008               72  s99.7k followers  "
      ]
     },
     "execution_count": 106,
     "metadata": {},
     "output_type": "execute_result"
    }
   ],
   "source": [
    "# Split the num_books column into two columns: num_books_author and foollowers_author\n",
    "\n",
    "split_data = books_df['num_books'].str.split(' books' if 'books' in books_df['num_books'].values else ' book', expand=True)\n",
    "books_df['num_books_author'] = split_data[0].str.replace('.', '').str.replace(',', '')\n",
    "books_df['followers_author'] = split_data[1]\n",
    "\n",
    "\n",
    "# Drop the original 'num_books' column\n",
    "books_df.drop('num_books', axis=1, inplace=True)\n",
    "books_df.head(1)"
   ]
  },
  {
   "cell_type": "code",
   "execution_count": 107,
   "id": "a6e8b27c",
   "metadata": {},
   "outputs": [
    {
     "data": {
      "text/plain": [
       "0"
      ]
     },
     "execution_count": 107,
     "metadata": {},
     "output_type": "execute_result"
    }
   ],
   "source": [
    "# Check for NaN values\n",
    "\n",
    "books_df.num_books_author.isnull().sum()"
   ]
  },
  {
   "cell_type": "code",
   "execution_count": 108,
   "id": "a25d0cad",
   "metadata": {},
   "outputs": [
    {
     "data": {
      "text/html": [
       "<div>\n",
       "<style scoped>\n",
       "    .dataframe tbody tr th:only-of-type {\n",
       "        vertical-align: middle;\n",
       "    }\n",
       "\n",
       "    .dataframe tbody tr th {\n",
       "        vertical-align: top;\n",
       "    }\n",
       "\n",
       "    .dataframe thead th {\n",
       "        text-align: right;\n",
       "    }\n",
       "</style>\n",
       "<table border=\"1\" class=\"dataframe\">\n",
       "  <thead>\n",
       "    <tr style=\"text-align: right;\">\n",
       "      <th></th>\n",
       "      <th>title</th>\n",
       "      <th>author</th>\n",
       "      <th>stars</th>\n",
       "      <th>ratings</th>\n",
       "      <th>reviews</th>\n",
       "      <th>synopsis</th>\n",
       "      <th>genre</th>\n",
       "      <th>version</th>\n",
       "      <th>price</th>\n",
       "      <th>number_of_pages</th>\n",
       "      <th>book_format</th>\n",
       "      <th>published_date</th>\n",
       "      <th>published_year</th>\n",
       "      <th>num_books_author</th>\n",
       "      <th>followers_author</th>\n",
       "    </tr>\n",
       "  </thead>\n",
       "  <tbody>\n",
       "    <tr>\n",
       "      <th>0</th>\n",
       "      <td>The Hunger Games</td>\n",
       "      <td>SUZANNE COLLINS</td>\n",
       "      <td>4.34</td>\n",
       "      <td>8601389</td>\n",
       "      <td>216773</td>\n",
       "      <td>Could you survive on your own in the wild, wit...</td>\n",
       "      <td>Young Adult</td>\n",
       "      <td>Kindle Unlimited</td>\n",
       "      <td>0.0</td>\n",
       "      <td>374</td>\n",
       "      <td>Hardcover</td>\n",
       "      <td>September 14, 2008</td>\n",
       "      <td>2008</td>\n",
       "      <td>72</td>\n",
       "      <td>s99.7k followers</td>\n",
       "    </tr>\n",
       "  </tbody>\n",
       "</table>\n",
       "</div>"
      ],
      "text/plain": [
       "              title           author  stars  ratings  reviews  \\\n",
       "0  The Hunger Games  SUZANNE COLLINS   4.34  8601389   216773   \n",
       "\n",
       "                                            synopsis        genre  \\\n",
       "0  Could you survive on your own in the wild, wit...  Young Adult   \n",
       "\n",
       "            version  price  number_of_pages book_format      published_date  \\\n",
       "0  Kindle Unlimited    0.0              374   Hardcover  September 14, 2008   \n",
       "\n",
       "   published_year  num_books_author  followers_author  \n",
       "0            2008                72  s99.7k followers  "
      ]
     },
     "execution_count": 108,
     "metadata": {},
     "output_type": "execute_result"
    }
   ],
   "source": [
    "# Convert the values from num_books_author column into integer\n",
    "\n",
    "\n",
    "def transform_books(text):\n",
    "    \n",
    "    # Replace 'k' with '000'\n",
    "    if 'k' in text:\n",
    "        text = text.replace('k', '000')\n",
    "    \n",
    "    # Remove '.' and ',' from the number\n",
    "    text = text.replace('.', '').replace(',', '')\n",
    "    \n",
    "    if text:\n",
    "        return int(text)\n",
    "    else:\n",
    "        return 0  \n",
    "\n",
    "# Apply the function to the followers column\n",
    "books_df['num_books_author'] = books_df['num_books_author'].apply(transform_books)\n",
    "books_df.head(1)"
   ]
  },
  {
   "cell_type": "code",
   "execution_count": 109,
   "id": "73970cf4",
   "metadata": {},
   "outputs": [
    {
     "data": {
      "text/plain": [
       "0    s99.7k followers\n",
       "1     s225k followers\n",
       "2    s66.3k followers\n",
       "3    s13.5k followers\n",
       "4    s39.2k followers\n",
       "Name: followers_author, dtype: object"
      ]
     },
     "execution_count": 109,
     "metadata": {},
     "output_type": "execute_result"
    }
   ],
   "source": [
    "# Check followers_author column\n",
    "\n",
    "books_df.followers_author.head()"
   ]
  },
  {
   "cell_type": "code",
   "execution_count": 110,
   "id": "4cf81fad",
   "metadata": {},
   "outputs": [
    {
     "data": {
      "text/plain": [
       "0"
      ]
     },
     "execution_count": 110,
     "metadata": {},
     "output_type": "execute_result"
    }
   ],
   "source": [
    "# Check for NaN values\n",
    "\n",
    "books_df.followers_author.isnull().sum()"
   ]
  },
  {
   "cell_type": "code",
   "execution_count": 111,
   "id": "0da7f4ec",
   "metadata": {},
   "outputs": [
    {
     "data": {
      "text/html": [
       "<div>\n",
       "<style scoped>\n",
       "    .dataframe tbody tr th:only-of-type {\n",
       "        vertical-align: middle;\n",
       "    }\n",
       "\n",
       "    .dataframe tbody tr th {\n",
       "        vertical-align: top;\n",
       "    }\n",
       "\n",
       "    .dataframe thead th {\n",
       "        text-align: right;\n",
       "    }\n",
       "</style>\n",
       "<table border=\"1\" class=\"dataframe\">\n",
       "  <thead>\n",
       "    <tr style=\"text-align: right;\">\n",
       "      <th></th>\n",
       "      <th>title</th>\n",
       "      <th>author</th>\n",
       "      <th>stars</th>\n",
       "      <th>ratings</th>\n",
       "      <th>reviews</th>\n",
       "      <th>synopsis</th>\n",
       "      <th>genre</th>\n",
       "      <th>version</th>\n",
       "      <th>price</th>\n",
       "      <th>number_of_pages</th>\n",
       "      <th>book_format</th>\n",
       "      <th>published_date</th>\n",
       "      <th>published_year</th>\n",
       "      <th>num_books_author</th>\n",
       "      <th>followers_author</th>\n",
       "    </tr>\n",
       "  </thead>\n",
       "  <tbody>\n",
       "    <tr>\n",
       "      <th>0</th>\n",
       "      <td>The Hunger Games</td>\n",
       "      <td>SUZANNE COLLINS</td>\n",
       "      <td>4.34</td>\n",
       "      <td>8601389</td>\n",
       "      <td>216773</td>\n",
       "      <td>Could you survive on your own in the wild, wit...</td>\n",
       "      <td>Young Adult</td>\n",
       "      <td>Kindle Unlimited</td>\n",
       "      <td>0.0</td>\n",
       "      <td>374</td>\n",
       "      <td>Hardcover</td>\n",
       "      <td>September 14, 2008</td>\n",
       "      <td>2008</td>\n",
       "      <td>72</td>\n",
       "      <td>997000</td>\n",
       "    </tr>\n",
       "  </tbody>\n",
       "</table>\n",
       "</div>"
      ],
      "text/plain": [
       "              title           author  stars  ratings  reviews  \\\n",
       "0  The Hunger Games  SUZANNE COLLINS   4.34  8601389   216773   \n",
       "\n",
       "                                            synopsis        genre  \\\n",
       "0  Could you survive on your own in the wild, wit...  Young Adult   \n",
       "\n",
       "            version  price  number_of_pages book_format      published_date  \\\n",
       "0  Kindle Unlimited    0.0              374   Hardcover  September 14, 2008   \n",
       "\n",
       "   published_year  num_books_author  followers_author  \n",
       "0            2008                72            997000  "
      ]
     },
     "execution_count": 111,
     "metadata": {},
     "output_type": "execute_result"
    }
   ],
   "source": [
    "# Convert the values from followers_author column into integer\n",
    "\n",
    "def transform_followers(text):\n",
    "    # Strip 'followers'\n",
    "    text = text.replace('s', '').replace(' follower', '')\n",
    "    text = text.replace('s', '')\n",
    "    \n",
    "    # Replace 'k' with '000'\n",
    "    if 'k' in text:\n",
    "        text = text.replace('k', '000')\n",
    "    \n",
    "    # Remove '.' and ',' from the number\n",
    "    text = text.replace('.', '').replace(',', '')\n",
    "    \n",
    "    # Check if the string is empty\n",
    "    if text:\n",
    "        return int(text)\n",
    "    else:\n",
    "        return 0  # Or any default value you prefer if the string is empty\n",
    "\n",
    "# Apply the function to the followers column\n",
    "books_df['followers_author'] = books_df['followers_author'].apply(transform_followers)\n",
    "books_df.head(1)"
   ]
  },
  {
   "cell_type": "code",
   "execution_count": 112,
   "id": "283184c2",
   "metadata": {},
   "outputs": [
    {
     "data": {
      "text/html": [
       "<div>\n",
       "<style scoped>\n",
       "    .dataframe tbody tr th:only-of-type {\n",
       "        vertical-align: middle;\n",
       "    }\n",
       "\n",
       "    .dataframe tbody tr th {\n",
       "        vertical-align: top;\n",
       "    }\n",
       "\n",
       "    .dataframe thead th {\n",
       "        text-align: right;\n",
       "    }\n",
       "</style>\n",
       "<table border=\"1\" class=\"dataframe\">\n",
       "  <thead>\n",
       "    <tr style=\"text-align: right;\">\n",
       "      <th></th>\n",
       "      <th>title</th>\n",
       "      <th>author</th>\n",
       "      <th>stars</th>\n",
       "      <th>ratings</th>\n",
       "      <th>reviews</th>\n",
       "      <th>synopsis</th>\n",
       "      <th>genre</th>\n",
       "      <th>version</th>\n",
       "      <th>price</th>\n",
       "      <th>number_of_pages</th>\n",
       "      <th>book_format</th>\n",
       "      <th>published_date</th>\n",
       "      <th>published_year</th>\n",
       "      <th>num_books_author</th>\n",
       "      <th>followers_author</th>\n",
       "    </tr>\n",
       "  </thead>\n",
       "  <tbody>\n",
       "    <tr>\n",
       "      <th>0</th>\n",
       "      <td>The Hunger Games</td>\n",
       "      <td>SUZANNE COLLINS</td>\n",
       "      <td>4.34</td>\n",
       "      <td>8601389</td>\n",
       "      <td>216773</td>\n",
       "      <td>Could you survive on your own in the wild, wit...</td>\n",
       "      <td>Young Adult</td>\n",
       "      <td>Kindle Unlimited</td>\n",
       "      <td>0.0</td>\n",
       "      <td>374</td>\n",
       "      <td>Hardcover</td>\n",
       "      <td>September 14, 2008</td>\n",
       "      <td>2008</td>\n",
       "      <td>72</td>\n",
       "      <td>997000</td>\n",
       "    </tr>\n",
       "  </tbody>\n",
       "</table>\n",
       "</div>"
      ],
      "text/plain": [
       "              title           author  stars  ratings  reviews  \\\n",
       "0  The Hunger Games  SUZANNE COLLINS   4.34  8601389   216773   \n",
       "\n",
       "                                            synopsis        genre  \\\n",
       "0  Could you survive on your own in the wild, wit...  Young Adult   \n",
       "\n",
       "            version  price  number_of_pages book_format      published_date  \\\n",
       "0  Kindle Unlimited    0.0              374   Hardcover  September 14, 2008   \n",
       "\n",
       "   published_year  num_books_author  followers_author  \n",
       "0            2008                72            997000  "
      ]
     },
     "execution_count": 112,
     "metadata": {},
     "output_type": "execute_result"
    }
   ],
   "source": [
    "books_df.head(1)"
   ]
  },
  {
   "cell_type": "code",
   "execution_count": 113,
   "id": "5f341d9e",
   "metadata": {},
   "outputs": [
    {
     "name": "stdout",
     "output_type": "stream",
     "text": [
      "<class 'pandas.core.frame.DataFrame'>\n",
      "Index: 6843 entries, 0 to 7181\n",
      "Data columns (total 15 columns):\n",
      " #   Column            Non-Null Count  Dtype  \n",
      "---  ------            --------------  -----  \n",
      " 0   title             6843 non-null   object \n",
      " 1   author            6843 non-null   object \n",
      " 2   stars             6843 non-null   float64\n",
      " 3   ratings           6843 non-null   int64  \n",
      " 4   reviews           6843 non-null   int64  \n",
      " 5   synopsis          6843 non-null   object \n",
      " 6   genre             6843 non-null   object \n",
      " 7   version           6843 non-null   object \n",
      " 8   price             6843 non-null   float64\n",
      " 9   number_of_pages   6843 non-null   int32  \n",
      " 10  book_format       6843 non-null   object \n",
      " 11  published_date    6843 non-null   object \n",
      " 12  published_year    6843 non-null   int32  \n",
      " 13  num_books_author  6843 non-null   int64  \n",
      " 14  followers_author  6843 non-null   int64  \n",
      "dtypes: float64(2), int32(2), int64(4), object(7)\n",
      "memory usage: 801.9+ KB\n"
     ]
    }
   ],
   "source": [
    "books_df.info()"
   ]
  },
  {
   "cell_type": "code",
   "execution_count": 114,
   "id": "2b2d8b60",
   "metadata": {},
   "outputs": [],
   "source": [
    "#Saving DataFrames I've created to .csv for further works\n",
    "\n",
    "books_df.to_csv('books_final.csv', index=False)"
   ]
  },
  {
   "cell_type": "code",
   "execution_count": null,
   "id": "e514f6ae",
   "metadata": {},
   "outputs": [],
   "source": []
  }
 ],
 "metadata": {
  "kernelspec": {
   "display_name": "Python 3 (ipykernel)",
   "language": "python",
   "name": "python3"
  },
  "language_info": {
   "codemirror_mode": {
    "name": "ipython",
    "version": 3
   },
   "file_extension": ".py",
   "mimetype": "text/x-python",
   "name": "python",
   "nbconvert_exporter": "python",
   "pygments_lexer": "ipython3",
   "version": "3.11.5"
  }
 },
 "nbformat": 4,
 "nbformat_minor": 5
}
